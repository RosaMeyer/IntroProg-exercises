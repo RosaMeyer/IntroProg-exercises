{
 "cells": [
  {
   "cell_type": "markdown",
   "metadata": {},
   "source": [
    "# Problem set 2: Finding the Walras equilibrium in a multi-agent economy"
   ]
  },
  {
   "cell_type": "code",
   "execution_count": null,
   "metadata": {},
   "outputs": [],
   "source": [
    "%load_ext autoreload\n",
    "%autoreload 2"
   ]
  },
  {
   "cell_type": "markdown",
   "metadata": {},
   "source": [
    "# Tasks"
   ]
  },
  {
   "cell_type": "markdown",
   "metadata": {},
   "source": [
    "## Drawing random numbers"
   ]
  },
  {
   "cell_type": "markdown",
   "metadata": {},
   "source": [
    "Replace the missing lines in the code below to get the same output as in the answer."
   ]
  },
  {
   "cell_type": "code",
   "execution_count": null,
   "metadata": {},
   "outputs": [],
   "source": [
    "import numpy as np\n",
    "np.random.seed(1986)\n",
    "\n",
    "# TODO: save state\n",
    "state = np.random.get_state() # Return a tuple representing the internal state of the random number generator\n",
    "# The state includes information about the internal state of the random number generator, allowing you to later restore it using np.random.set_state()\n",
    "\n",
    "# The purpose of this loop is to demonstrate generating different sets of random numbers\n",
    "for i in range(3):\n",
    "    # TODO: reset state \n",
    "    np.random.set_state(state) # sets the state of the random number generator to a specified state\n",
    "    # The inner loop is used to showcase different random numbers within each set\n",
    "    for j in range(2):\n",
    "        x = np.random.uniform()\n",
    "        print(f'({i},{j}): x = {x:.3f}')\n",
    "\n",
    "# The overall purpose of this loop is to demonstrate how resetting the random number generator's state within \n",
    "# the outer loop allows you to generate different sets of random numbers while maintaining consistency within each set. \n",
    "# The inner loop is used for showcasing variations within each set.\n",
    "        \n",
    "# The code prints the values of x for each combination of the outer and inner loop indices, and since the \n",
    "# random number generator is reset to the same state before each inner loop iteration, the output will be the same if you \n",
    "# run the code multiple times due to the fixed seed. \n",
    "# The use of the seed also ensures that if you run the code multiple times, you'll get the same sequence of random numbers.\n",
    "        \n",
    "\n",
    "# The random number generator being reset to a fixed state before each inner loop iteration for reproducibility."
   ]
  },
  {
   "cell_type": "markdown",
   "metadata": {},
   "source": [
    "**Answer:**"
   ]
  },
  {
   "cell_type": "markdown",
   "metadata": {},
   "source": [
    "See A1.py"
   ]
  },
  {
   "cell_type": "markdown",
   "metadata": {},
   "source": [
    "## Find the expectated value"
   ]
  },
  {
   "cell_type": "markdown",
   "metadata": {},
   "source": [
    "Find the expected value and the expected variance\n",
    "\n",
    "$$ \n",
    "\\mathbb{E}[g(x)] \\approx \\frac{1}{N}\\sum_{i=1}^{N} g(x_i)\n",
    "$$\n",
    "$$ \n",
    "\\mathbb{VAR}[g(x)] \\approx \\frac{1}{N}\\sum_{i=1}^{N} \\left( g(x_i) - \\frac{1}{N}\\sum_{i=1}^{N} g(x_i) \\right)^2\n",
    "$$\n",
    "\n",
    "where $ x_i \\sim \\mathcal{N}(0,\\sigma) $ and\n",
    "\n",
    "$$ \n",
    "g(x,\\omega)=\\begin{cases}\n",
    "x & \\text{if }x\\in[-\\omega,\\omega]\\\\\n",
    "-\\omega & \\text{if }x<-\\omega\\\\\n",
    "\\omega & \\text{if }x>\\omega\n",
    "\\end{cases} \n",
    "$$"
   ]
  },
  {
   "cell_type": "code",
   "execution_count": null,
   "metadata": {},
   "outputs": [],
   "source": [
    "# a. defines variables / parameter choices\n",
    "sigma = 3.14\n",
    "omega = 2\n",
    "N = 10000\n",
    "# remeber not to change seed throughout the program/notebook - might brake randomness!\n",
    "np.random.seed(1986)\n",
    "\n",
    "# TODO: \n",
    "\n",
    "# b. draw random numbers\n",
    "ran_no = np.random.normal(loc=0, scale=sigma, size=N) # loc: mean (“centre”) of the distribution - scale: standard deviation (non-negative) – size: output shape\n",
    "\n",
    "# c. transformation function: g(x, omega)\n",
    "def transform(x, omega):\n",
    "    clipped_values = np.clip(x, -omega, omega) # np.clip clips values in the array x to be within the range of -omega to omega\n",
    "    return clipped_values\n",
    "\n",
    "# def transform(x, omega):\n",
    "#     y = x.copy()\n",
    "#     y[x < -omega] = -omega\n",
    "#     y[x > omega] = omega\n",
    "#     return y\n",
    "\n",
    "# d. mean and variance\n",
    "transformed_data = transform(ran_no, omega)\n",
    "mean_transformed = np.mean(transformed_data)\n",
    "variance_transformed = np.var(transformed_data)\n",
    "\n",
    "print(\"Mean of transformed data:    \", mean_transformed)\n",
    "print(\"Variance of transformed data:\", variance_transformed)"
   ]
  },
  {
   "cell_type": "markdown",
   "metadata": {},
   "source": [
    "**Answer:**"
   ]
  },
  {
   "cell_type": "markdown",
   "metadata": {},
   "source": [
    "See A2.py"
   ]
  },
  {
   "cell_type": "markdown",
   "metadata": {},
   "source": [
    "## Interactive histogram"
   ]
  },
  {
   "cell_type": "markdown",
   "metadata": {},
   "source": [
    "**First task:** Consider the code below. Fill in the missing lines so the figure is plotted."
   ]
  },
  {
   "cell_type": "code",
   "execution_count": null,
   "metadata": {},
   "outputs": [],
   "source": [
    "# a. import\n",
    "%matplotlib inline\n",
    "import matplotlib.pyplot as plt\n",
    "# TODO: missing packages\n",
    "import ipywidgets as widgets\n",
    "from scipy.stats import norm\n",
    "\n",
    "# b. plotting figure\n",
    "def fitting_normal(X, mu_guess, sigma_guess):\n",
    "    \n",
    "    # i. normal distribution from guess\n",
    "    F = norm(loc=mu_guess, scale=sigma_guess) # A normal continuous random variable. The loc-keyword specifies the mean - scale-keyword specifies the standard deviation\n",
    "    \n",
    "    # ii. x-values\n",
    "    # TODO: x_low, x_high =\n",
    "    # norm.ppf(): The probability value for which you want to find the corresponding quantile. It should be between 0 and 1\n",
    "    x_low = F.ppf(0.001)  # x value where cdf is 0.001\n",
    "    # this would output a value representing the quantile at which the cumulative distribution function is 0.001 in a standard normal distribution\n",
    "    x_high = F.ppf(0.999)  # x value where cdf is 0.999\n",
    "    x = np.linspace(x_low,x_high,100)\n",
    "\n",
    "    # iii. figure\n",
    "    fig = plt.figure(dpi=100)\n",
    "    ax = fig.add_subplot(1,1,1)\n",
    "    ax.plot(x,F.pdf(x),lw=2)\n",
    "    ax.hist(X,bins=100,density=True,histtype='stepfilled');\n",
    "    ax.set_ylim([0,0.5])\n",
    "    ax.set_xlim([-6,6])\n",
    "\n",
    "# c. parameters\n",
    "mu_true = 2\n",
    "sigma_true = 1\n",
    "mu_guess = 1\n",
    "sigma_guess = 2\n",
    "\n",
    "# d. random draws\n",
    "X = np.random.normal(loc=mu_true, scale=sigma_true, size=10**6)\n",
    "\n",
    "# e. figure\n",
    "try:\n",
    "    fitting_normal(X, mu_guess, sigma_guess)\n",
    "except:\n",
    "    print('failed')"
   ]
  },
  {
   "cell_type": "markdown",
   "metadata": {},
   "source": [
    "**Second task:** Create an interactive version of the figure with sliders for $\\mu$ and $\\sigma$."
   ]
  },
  {
   "cell_type": "code",
   "execution_count": null,
   "metadata": {},
   "outputs": [],
   "source": [
    "# write your code here\n",
    "\n",
    "widgets.interact(fitting_normal,\n",
    "                 X           = widgets.fixed(X),\n",
    "                 mu_guess    = widgets.FloatSlider(description='mu', min=0.0, max=4, step=0.01, value=1),\n",
    "                 sigma_guess = widgets.FloatSlider(description='sigma', min=0.0, max=4, step=0.05, value=1)\n",
    "                )"
   ]
  },
  {
   "cell_type": "markdown",
   "metadata": {},
   "source": [
    "**Answer:**"
   ]
  },
  {
   "cell_type": "markdown",
   "metadata": {},
   "source": [
    "See A3.py"
   ]
  },
  {
   "cell_type": "markdown",
   "metadata": {},
   "source": [
    "## Modules"
   ]
  },
  {
   "cell_type": "markdown",
   "metadata": {},
   "source": [
    "1. Call the function `myfun` from the module `mymodule` present in this folder.\n",
    "2. Open VSCode and open the `mymodule.py`, add a new function and call it from this notebook."
   ]
  },
  {
   "cell_type": "code",
   "execution_count": null,
   "metadata": {},
   "outputs": [],
   "source": [
    "# TODO: hint: you can import py-files like you import numpy\n",
    "\n",
    "import mymodule\n",
    "mymodule.myfun_2(1) # be aware that you'll not get any output if your argument is not a strictly positive integer: i.e. n>0\n"
   ]
  },
  {
   "cell_type": "markdown",
   "metadata": {},
   "source": [
    "**Answer:**"
   ]
  },
  {
   "cell_type": "markdown",
   "metadata": {},
   "source": [
    "See A4.py"
   ]
  },
  {
   "cell_type": "markdown",
   "metadata": {},
   "source": [
    "## Git"
   ]
  },
  {
   "cell_type": "markdown",
   "metadata": {},
   "source": [
    "1. Try to go to your own personal GitHub main page and create a new repository. Then put your solution to this problem set in it.\n",
    "2. Pair up with a fellow student. Clone each others repositories and run the code in them."
   ]
  },
  {
   "cell_type": "markdown",
   "metadata": {},
   "source": [
    "**IMPORTANT:** You will need **git** for the data project in a few needs. Better learn it know. Remember, that the teaching assistants are there to help you."
   ]
  },
  {
   "cell_type": "markdown",
   "metadata": {},
   "source": [
    "# Problem"
   ]
  },
  {
   "cell_type": "markdown",
   "metadata": {},
   "source": [
    "Consider an **exchange economy** with\n",
    "\n",
    "1. 2 goods, $(x_1,x_2)$\n",
    "2. $N$ consumers indexed by $j \\in \\{1,2,\\dots,N\\}$\n",
    "3. Preferences are Cobb-Douglas with truncated normally *heterogenous* coefficients\n",
    "\n",
    "    $$\n",
    "    \\begin{aligned}\n",
    "    u^{j}(x_{1},x_{2}) & = x_{1}^{\\alpha_{j}}x_{2}^{1-\\alpha_{j}}\\\\\n",
    "     & \\tilde{\\alpha}_{j}\\sim\\mathcal{N}(\\mu,\\sigma)\\\\\n",
    "     & \\alpha_j = \\max(\\underline{\\mu},\\min(\\overline{\\mu},\\tilde{\\alpha}_{j}))\n",
    "    \\end{aligned}\n",
    "    $$\n",
    "\n",
    "4. Endowments are *heterogenous* and given by\n",
    "\n",
    "    $$\n",
    "    \\begin{aligned}\n",
    "    \\boldsymbol{e}^{j}&=(e_{1}^{j},e_{2}^{j}) \\\\\n",
    "     &  & e_i^j \\sim f, f(x,\\beta_i) =  1/\\beta_i \\exp(-x/\\beta)\n",
    "    \\end{aligned}\n",
    "    $$"
   ]
  },
  {
   "cell_type": "markdown",
   "metadata": {},
   "source": [
    "**Problem:** Write a function to solve for the equilibrium."
   ]
  },
  {
   "cell_type": "markdown",
   "metadata": {},
   "source": [
    "You can use the following parameters:"
   ]
  },
  {
   "cell_type": "code",
   "execution_count": null,
   "metadata": {},
   "outputs": [],
   "source": [
    "# hint: look in lecture notebook: Random_numbers_basic or the below cell\n",
    "\n",
    "# a. parameters\n",
    "N = 10000\n",
    "mu = 0.5\n",
    "sigma = 0.2\n",
    "mu_low = 0.1\n",
    "mu_high = 0.9\n",
    "beta1 = 1.3\n",
    "beta2 = 2.1\n",
    "\n",
    "seed = 1986\n",
    "\n",
    "# b. draws of random numbers\n",
    "np.random.seed(seed)\n",
    "alphas = np.random.normal(loc=mu, scale=sigma, size=N)\n",
    "alphas = np.fmax(np.fmin(alphas, mu_high), mu_low)\n",
    "e1 = np.random.exponential(beta1, size=N)\n",
    "e2 = np.random.exponential(beta2, size=N)\n",
    "\n",
    "# c. demand function\n",
    "def demand_func(alpha, p1, p2, e1, e2):\n",
    "    I = p1*e1 + p2*e2\n",
    "    return alpha*I/p1\n",
    "\n",
    "# d. excess demand function\n",
    "def excess_demand_good_1_func(alphas, p1, p2, e1, e2):\n",
    "    # i: demand\n",
    "    demand = np.sum(demand_func(alphas, p1, p2, e1, e2))\n",
    "\n",
    "    # ii: supply\n",
    "    supply = np.sum(e1)\n",
    "\n",
    "    # iii: excess-demand\n",
    "    excess_demand = demand - supply\n",
    "\n",
    "    return excess_demand\n",
    "\n",
    "\n",
    "# e. find equilibrium function\n",
    "def equilibrium(alphas, p1, p2, e1, e2, kappa, eps, maxiter=500):\n",
    "    \n",
    "    t = 0\n",
    "    while True:\n",
    "\n",
    "        # i. step 1: excess demand\n",
    "        Z1 = excess_demand_good_1_func(alphas, p1, p2, e1, e2)\n",
    "\n",
    "        # ii: step 2: stop?\n",
    "        if np.abs(Z1) < eps or t >= maxiter:\n",
    "            print(f'{t:3d}: p1 = {p1:12.8f} -> excess demand -> {Z1:14.8f}')\n",
    "            break\n",
    "\n",
    "        # iii. step 3: update p1\n",
    "        p1 += kappa*Z1 / alphas.size\n",
    "\n",
    "        # iv. step 4: return\n",
    "        if t < 5 or t % 25 == 0:\n",
    "            print(f'{t:3d}: p1 = {p1:12.8f} -> excess demand -> {Z1:14.8f}')\n",
    "        elif t == 5:\n",
    "            print('   ...')\n",
    "\n",
    "        t += 1\n",
    "\n",
    "    return p1\n",
    "\n",
    "# f. call find equilibrium function - Hint: chose your own values for the variables p1, p2, kappa and epsilon or see solution A5.py\n",
    "p1 = 1.4\n",
    "p2 = 1\n",
    "kappa = 0.5\n",
    "eps = 1e-8\n",
    "\n",
    "p1 = equilibrium(alphas, p1, p2, e1, e2, kappa, eps)"
   ]
  },
  {
   "cell_type": "markdown",
   "metadata": {},
   "source": [
    "**Hint:** The code structure is exactly the same as for the exchange economy considered in the lecture. The code for solving that exchange economy is reproduced in condensed form below."
   ]
  },
  {
   "cell_type": "code",
   "execution_count": null,
   "metadata": {},
   "outputs": [],
   "source": [
    "# a. parameters\n",
    "N = 1000\n",
    "k = 2\n",
    "mu_low = 0.1\n",
    "mu_high = 0.9\n",
    "seed = 1986\n",
    "\n",
    "# b. draws of random numbers\n",
    "np.random.seed(seed)\n",
    "alphas = np.random.uniform(low=mu_low,high=mu_high,size=N)\n",
    "\n",
    "# c. demand function\n",
    "def demand_good_1_func(alpha,p1,p2,k):\n",
    "    I = k*p1+p2\n",
    "    return alpha*I/p1\n",
    "\n",
    "# d. excess demand function\n",
    "def excess_demand_good_1_func(alphas,p1,p2,k):\n",
    "    \n",
    "    # a. demand\n",
    "    demand = np.sum(demand_good_1_func(alphas,p1,p2,k))\n",
    "    \n",
    "    # b. supply\n",
    "    supply = k*alphas.size\n",
    "    \n",
    "    # c. excess demand\n",
    "    excess_demand = demand-supply\n",
    "    \n",
    "    return excess_demand\n",
    "\n",
    "# e. find equilibrium function\n",
    "def find_equilibrium(alphas,p1,p2,k,kappa=0.5,eps=1e-8,maxiter=500):\n",
    "    \n",
    "    t = 0\n",
    "    while True:\n",
    "\n",
    "        # a. step 1: excess demand\n",
    "        Z1 = excess_demand_good_1_func(alphas,p1,p2,k)\n",
    "        \n",
    "        # b: step 2: stop?\n",
    "        if  np.abs(Z1) < eps or t >= maxiter:\n",
    "            print(f'{t:3d}: p1 = {p1:12.8f} -> excess demand -> {Z1:14.8f}')\n",
    "            break    \n",
    "    \n",
    "        # c. step 3: update p1\n",
    "        p1 = p1 + kappa*Z1/alphas.size\n",
    "            \n",
    "        # d. step 4: return \n",
    "        if t < 5 or t%25 == 0:\n",
    "            print(f'{t:3d}: p1 = {p1:12.8f} -> excess demand -> {Z1:14.8f}')\n",
    "        elif t == 5:\n",
    "            print('   ...')\n",
    "            \n",
    "        t += 1    \n",
    "\n",
    "    return p1\n",
    "\n",
    "# e. call find equilibrium function\n",
    "p1 = 1.4\n",
    "p2 = 1\n",
    "kappa = 0.1\n",
    "eps = 1e-8\n",
    "p1 = find_equilibrium(alphas,p1,p2,k,kappa=kappa,eps=eps)"
   ]
  },
  {
   "cell_type": "markdown",
   "metadata": {},
   "source": [
    "**Answers:**"
   ]
  },
  {
   "cell_type": "markdown",
   "metadata": {},
   "source": [
    "See A5.py"
   ]
  },
  {
   "cell_type": "markdown",
   "metadata": {},
   "source": [
    "## Save and load"
   ]
  },
  {
   "cell_type": "markdown",
   "metadata": {},
   "source": [
    "Consider the code below and fill in the missing lines so the code can run without any errors."
   ]
  },
  {
   "cell_type": "code",
   "execution_count": null,
   "metadata": {},
   "outputs": [],
   "source": [
    "import pickle\n",
    "\n",
    "# a. create some data\n",
    "my_data = {}\n",
    "my_data['A'] = {'a':1,'b':2}\n",
    "my_data['B'] = np.array([1,2,3])\n",
    "# TODO:\n",
    "my_data['C'] = (1, 2, 3)\n",
    "\n",
    "my_np_data = {}\n",
    "my_np_data['D'] = np.array([1,2,3])\n",
    "my_np_data['E'] = np.zeros((5,8))\n",
    "# TODO:\n",
    "my_np_data['F'] = np.ones(7)\n",
    "\n",
    "# c. save with pickle\n",
    "with open(f'data.p', 'wb') as f:\n",
    "    # TODO:\n",
    "    pickle.dump(my_data, f) # writes the pickled representation of the object obj to the open file object file - in this case data\n",
    "\n",
    "# d. save with numpy\n",
    "# TODO:, np.savez(?)\n",
    "np.savez(f'data.npz', **my_np_data) # **my_np_data: takes all the key-value pairs from the my_np_data dictionary and unpacks them as keyword arguments\n",
    "    \n",
    "# a. try\n",
    "def load_all():\n",
    "    with open(f'data.p', 'rb') as f:\n",
    "        data = pickle.load(f)\n",
    "        A = data['A']\n",
    "        B = data['B']\n",
    "        C = data['C']\n",
    "\n",
    "    with np.load(f'data.npz') as data:\n",
    "        D = data['D']\n",
    "        E = data['E']\n",
    "        F = data['F']        \n",
    "    \n",
    "    print('variables loaded without error')\n",
    "    \n",
    "try:\n",
    "    load_all()\n",
    "except:\n",
    "    print('failed')"
   ]
  },
  {
   "cell_type": "markdown",
   "metadata": {},
   "source": [
    "**Answer:**"
   ]
  },
  {
   "cell_type": "markdown",
   "metadata": {},
   "source": [
    "See A6.py"
   ]
  },
  {
   "cell_type": "markdown",
   "metadata": {},
   "source": [
    "# Extra Problems"
   ]
  },
  {
   "cell_type": "markdown",
   "metadata": {},
   "source": [
    "## Multiple goods"
   ]
  },
  {
   "cell_type": "markdown",
   "metadata": {},
   "source": [
    "Solve the main problem extended with multiple goods:"
   ]
  },
  {
   "cell_type": "markdown",
   "metadata": {},
   "source": [
    "$$\n",
    "\\begin{aligned}\n",
    "u^{j}(x_{1},x_{2}) & = x_{1}^{\\alpha^1_{j}} \\cdot x_{2}^{\\alpha^2_{j}} \\cdots x_{M}^{\\alpha^M_{j}}\\\\\n",
    " &  \\alpha_j = [\\alpha^1_{j},\\alpha^2_{j},\\dots,\\alpha^M_{j}] \\\\\n",
    " &  \\log(\\alpha_j) \\sim \\mathcal{N}(0,\\Sigma) \\\\\n",
    "\\end{aligned}\n",
    "$$\n",
    "\n",
    "where $\\Sigma$ is a valid covariance matrix."
   ]
  },
  {
   "cell_type": "code",
   "execution_count": null,
   "metadata": {},
   "outputs": [],
   "source": [
    "# a. choose parameters\n",
    "from scipy import optimize # used to find root of optimization - solver\n",
    "\n",
    "\n",
    "N = 10000\n",
    "J = 3\n",
    "p_vec = np.ones(J) # define a (price) vector the size of J filled with ones\n",
    "\n",
    "# b. choose Sigma\n",
    "Sigma_lower = np.array([[1, 0, 0], [0.5, 1, 0], [0.25, -0.5, 1]])\n",
    "Sigma_upper = Sigma_lower.T\n",
    "Sigma = Sigma_upper@Sigma_lower # the context of NumPy, the @ function is equivalent to the  np.dot() - performs matrix multiplication for 2D arrays\n",
    "# Sigma = np.dot(Sigma_upper, Sigma_lower) # same as above line\n",
    "print('Sigma:\\n', Sigma)\n",
    "\n",
    "# c. draw random numbers\n",
    "np.random.seed(1997) # remember to set seed (but not necessarily if you already set a seed previously)!\n",
    "\n",
    "alphas = np.exp(np.random.multivariate_normal(np.zeros(J), Sigma, 10000))\n",
    "print('\\nmean:\\n', np.mean(alphas, axis=0)) # considers array to be flattend \n",
    "print('\\ncorrcoef:\\n', np.corrcoef(alphas.T)) # Pearson product-moment correlation coefficients: the relationship between the correlation coefficient matrix and the covariance matrix\n",
    "\n",
    "# d. draw random numbers for endowment with exponential distribution and define some means for the endowments\n",
    "endow = np.random.exponential([1, 2, 3], size=[N, J])\n",
    "\n",
    "# e. redefine the demand function\n",
    "def demand_fun(alpha, p, e):\n",
    "    # i. compute income for each individual using matrix product\n",
    "    I = np.dot(e, p).reshape(-1, 1) # reshape the array into a column vector with one column, and figure out the appropriate number of rows automatically without changing datac\n",
    "   \n",
    "    # ii. compute income shares for each individual\n",
    "    alpah_sum = alpha.sum(axis=1).reshape(-1,1)\n",
    "    inc_shares = alpha / alpah_sum\n",
    "\n",
    "    # iii. calculate demand for each good for each individual\n",
    "    ind_demand_good = inc_shares * I / p\n",
    "\n",
    "    # iv. return the demand for the entire economy\n",
    "    return np.sum(ind_demand_good, axis=0) # axis=0 indicates that the summation should be done along the rows, meaning the function will sum the values vertically, treating each column as a separate set of values\n",
    "\n",
    "# f. redifine the excess demand function\n",
    "def excess_demand_func(alpha, p, e):\n",
    "    # i. demand of x1 given prices p1 and p2\n",
    "    demand = demand_fun(alpha, p, e)\n",
    "\n",
    "    # ii. supply of x1 / good 1\n",
    "    supply = np.sum(e, axis=0)\n",
    "\n",
    "    # iii. excess demand\n",
    "    excess_demand = demand - supply\n",
    "\n",
    "    # iv. return excess demand\n",
    "    return excess_demand\n",
    "\n",
    "# g. define the objective function\n",
    "def objective_fun(alpha, p, e):\n",
    "    # i. append 1.0 to the price vector p to include the price of good J\n",
    "    extended_p = np.append(p, 1.0)\n",
    "\n",
    "    # ii. calculate excess demand – excluding the last element (corresponding to the price for good J)\n",
    "    excess_demand = excess_demand_func(alpha, extended_p, e)[:-1]\n",
    "\n",
    "    # iii. return excess demand\n",
    "    return excess_demand\n",
    "\n",
    "# h. define the solution to find the equilibrium\n",
    "def equilibrium(alpha, p, e):\n",
    "    # i. final objective function for finding equilibrium\n",
    "    obj_fun = lambda p: objective_fun(alpha, p, e)\n",
    "\n",
    "    # ii. find root of the objective function to use for optimization\n",
    "    root = optimize.root(obj_fun, p[:-1])\n",
    "\n",
    "    # iii. ensure that the optimization / solver was successful\n",
    "    assert root.success == True, \"Optimization failed to find the equilibrium!\"\n",
    "\n",
    "    # iv. return the equilibrium price vector, including the price of good J\n",
    "    equilibrium_p = np.append(root.x, 1.0)\n",
    "    return  equilibrium_p\n",
    "\n",
    "p_equilibrium = equilibrium(alphas, p_vec, endow)\n",
    "\n",
    "print(f'\\nEquilibrium with {J} goods: {p_equilibrium}')\n"
   ]
  }
 ],
 "metadata": {
  "kernelspec": {
   "display_name": "Python 3 (ipykernel)",
   "language": "python",
   "name": "python3"
  },
  "language_info": {
   "codemirror_mode": {
    "name": "ipython",
    "version": 3
   },
   "file_extension": ".py",
   "mimetype": "text/x-python",
   "name": "python",
   "nbconvert_exporter": "python",
   "pygments_lexer": "ipython3",
   "version": "3.11.5"
  },
  "toc-autonumbering": true
 },
 "nbformat": 4,
 "nbformat_minor": 4
}
