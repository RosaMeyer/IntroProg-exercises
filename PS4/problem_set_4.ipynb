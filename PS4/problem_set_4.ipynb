{
 "cells": [
  {
   "cell_type": "markdown",
   "metadata": {},
   "source": [
    "# Problem set 4: Analyzing data"
   ]
  },
  {
   "cell_type": "code",
   "execution_count": 1,
   "metadata": {},
   "outputs": [],
   "source": [
    "import numpy as np\n",
    "import matplotlib.pyplot as plt\n",
    "plt.rcParams.update({\"axes.grid\":True,\"grid.color\":\"black\",\"grid.alpha\":\"0.25\",\"grid.linestyle\":\"--\"})\n",
    "plt.rcParams.update({'font.size': 14})\n",
    "\n",
    "import pandas as pd\n",
    "from dstapi import DstApi # install with `pip install git+https://github.com/alemartinello/dstapi`"
   ]
  },
  {
   "cell_type": "markdown",
   "metadata": {},
   "source": [
    "# Tasks"
   ]
  },
  {
   "cell_type": "markdown",
   "metadata": {},
   "source": [
    "## Import national account data from Denmark Statistics"
   ]
  },
  {
   "cell_type": "markdown",
   "metadata": {},
   "source": [
    "Consider the following dictionary definitions:"
   ]
  },
  {
   "cell_type": "code",
   "execution_count": 2,
   "metadata": {},
   "outputs": [],
   "source": [
    "columns_dict = {}\n",
    "columns_dict['TRANSAKT'] = 'variable'\n",
    "columns_dict['PRISENHED'] = 'unit'\n",
    "columns_dict['TID'] = 'year'\n",
    "columns_dict['INDHOLD'] = 'value'\n",
    "\n",
    "var_dict = {} # var is for variable\n",
    "var_dict['P.1 Output'] = 'Y'\n",
    "var_dict['P.3 Final consumption expenditure'] = 'C'\n",
    "var_dict['P.3 Government consumption expenditure'] = 'G'\n",
    "var_dict['P.5 Gross capital formation'] = 'I'\n",
    "var_dict['P.6 Export of goods and services'] = 'X'\n",
    "var_dict['P.7 Import of goods and services'] = 'M'\n",
    "\n",
    "unit_dict = {}\n",
    "unit_dict['2010-prices, chained values'] = 'real'\n",
    "unit_dict['Current prices'] = 'nominal'"
   ]
  },
  {
   "cell_type": "markdown",
   "metadata": {},
   "source": [
    "**Step 1:** Download all of table `nah1`."
   ]
  },
  {
   "cell_type": "code",
   "execution_count": 3,
   "metadata": {},
   "outputs": [],
   "source": [
    "# hint, nah1_api = DstApi('?') \n",
    "# hint, params = nah1_api._define_base_params(language='en')\n",
    "\n",
    "# nah1 = nah1_api.get_data(?)\n",
    "\n",
    "nah1_api = DstApi('nah1')\n",
    "params = nah1_api._define_base_params(language='en')\n",
    "\n",
    "nah1 = nah1_api.get_data(params)"
   ]
  },
  {
   "cell_type": "markdown",
   "metadata": {},
   "source": [
    "**Step 2:** Rename the columns using `columns_dict` and replace data using `var_dict` and `unit_dict`."
   ]
  },
  {
   "cell_type": "code",
   "execution_count": null,
   "metadata": {},
   "outputs": [],
   "source": [
    "# hint, nah1_true.rename(?,inplace=True)\n",
    "\n",
    "nah1.rename(columns=columns_dict, inplace=True)\n",
    "\n",
    "# for key,value in var_dict.items():\n",
    "#   nah1.variable.replace(?)\n",
    "\n",
    "for key, value in var_dict.items():\n",
    "  nah1.variable.replace(key, value, inplace=True)\n",
    "\n",
    "#for key,value in unit_dict.items():\n",
    "#   nah1.unit.replace(?)\n",
    "  \n",
    "for key, value in unit_dict.items():\n",
    "  nah1.unit.replace(key, value, inplace=True)"
   ]
  },
  {
   "cell_type": "markdown",
   "metadata": {},
   "source": [
    "**Step 3:** Only keep rows where the variable is in `[Y, C, G, I, X, M]`. Afterwards convert the `value` column to a float."
   ]
  },
  {
   "cell_type": "code",
   "execution_count": null,
   "metadata": {},
   "outputs": [],
   "source": [
    "# write you code here\n",
    "# nah1.value = nah1.value.astype('float')\n",
    "\n",
    "def filter_nah1(var_dict):\n",
    "    \"\"\"\n",
    "    Filter nah1 dataframe based on values in var_dict.\n",
    "\n",
    "    Args:\n",
    "        var_dict (dict): A dictionary containing variable-value pairs.\n",
    "\n",
    "    Returns:\n",
    "        filtered_nah1 (DataFrame): Filtered DataFrame containing rows\n",
    "                                    satisfying conditions from var_dict.\n",
    "    \"\"\"\n",
    "\n",
    "    cond = False\n",
    "    for key, value in var_dict.items():\n",
    "        cond = cond | (nah1.variable == value) # | is a bitwise logical OR-operator - checks whether the value associated with the current key matches the corresponding values in the nah1\n",
    "    filtered_nah1 = nah1[cond]\n",
    "    return filtered_nah1\n",
    "\n",
    "nah1 = filter_nah1(var_dict)\n",
    "\n",
    "# nah1.value = nah1.value.astype('float')\n",
    "nah1.value = nah1.value.astype('float')"
   ]
  },
  {
   "cell_type": "markdown",
   "metadata": {},
   "source": [
    "## The '|' vs 'OR' operator\n",
    "\n",
    "In Python, the 'OR' operator (written 'or') is primarily used for boolean logical operations, and while it can work \n",
    "for combining conditions, it might not behave as expected when used for this purpose in certain contexts, \n",
    "such as when trying to accumulate conditions in a loop for filtering a DataFrame.\n",
    "\n",
    "The main issue is typically the fact that the boolean 'OR' operator performs short-circuiting, meaning that if \n",
    "the first operand/condition evaluates to true, Python does not evaluate the second condition. By definition of\n",
    "the operator the overall result would already be true if one of the conditions evaluates to True. \n",
    "\n",
    "Using the '|' operator ensures that both conditions/operands are evaluated and then evaluated correctly."
   ]
  },
  {
   "cell_type": "markdown",
   "metadata": {},
   "source": [
    "**Step 4:** Discuss what the following summary statistics show."
   ]
  },
  {
   "cell_type": "code",
   "execution_count": null,
   "metadata": {},
   "outputs": [],
   "source": [
    "# nah1.groupby(['variable','unit']).describe()\n",
    "\n",
    "nah1.groupby(['variable','unit']).describe()"
   ]
  },
  {
   "cell_type": "markdown",
   "metadata": {},
   "source": [
    "**Grouping by variables:**\n",
    "\n",
    "- The DataFrame nah1 is grouped based on unique combinations of 'variable' and 'unit'. This means that statistics will be calculated separately for each combination of these two variables.\n",
    "\n",
    "**Summary statistics:**\n",
    "\n",
    "- For each group, summary statistics are computed for all numerical columns in nah1. These statistics include:\n",
    "    - Count: The number of non-null values in each group.\n",
    "    - Mean: The average value of the numerical data in each group.\n",
    "    - Standard Deviation: A measure of the dispersion of data points around the mean.\n",
    "    - Minimum and Maximum: The minimum and maximum values observed in each group.\n",
    "    - 25th, 50th (median), and 75th percentiles: These percentiles provide information about the distribution of values within each group.\n",
    "\n",
    "**Interpretations:**\n",
    "- Count: Indicates the number of observations for each group. Higher counts suggest more data points available for analysis.\n",
    "- Mean: Gives an idea of the central tendency of the data within each group. Higher or lower means indicate higher or lower average values, respectively.\n",
    "- Standard Deviation: Provides information about the variability or spread of data within each group. Higher standard deviations suggest more dispersed data.\n",
    "- Minimum and Maximum: Show the range of observed values within each group.\n",
    "- Percentiles: Offer insights into the distribution of values within each group, including the median and spread of values around it.\n",
    "\n",
    "**Insights:**\n",
    "- Identify patterns, variations, and outliers within different groups defined by 'variable' and 'unit'.\n",
    "- Comparisons between groups to understand differences or similarities in their distributions."
   ]
  },
  {
   "attachments": {},
   "cell_type": "markdown",
   "metadata": {},
   "source": [
    "**Step 5:** Sort the dataset by year"
   ]
  },
  {
   "cell_type": "code",
   "execution_count": null,
   "metadata": {},
   "outputs": [],
   "source": [
    "# nah1.sort_values(by='?',inplace=?)\n",
    "# nah1.head()\n",
    "\n",
    "nah1.sort_values(by='year', inplace=True)"
   ]
  },
  {
   "cell_type": "markdown",
   "metadata": {},
   "source": [
    "**Answer:** See A1.py"
   ]
  },
  {
   "cell_type": "markdown",
   "metadata": {},
   "source": [
    "## Merge with population data from Denmark Statistics"
   ]
  },
  {
   "cell_type": "markdown",
   "metadata": {},
   "source": [
    "Load population data from Denmark Statistics:"
   ]
  },
  {
   "cell_type": "code",
   "execution_count": null,
   "metadata": {},
   "outputs": [],
   "source": [
    "FT_api = DstApi('FT')\n",
    "params = FT_api._define_base_params(language='en')\n",
    "params['variables'][0]['values'] = ['000'] \n",
    "## 000 is the code for all of Denmark, this can be seen by using: FT_api.variable_levels('HOVEDDELE', language='en')\n",
    "pop = FT_api.get_data(params=params)\n",
    "\n",
    "pop.rename(columns={'TID':'year','INDHOLD':'population'},inplace=True)\n",
    "pop =  pop.loc[:,['year','population']]\n",
    "pop.head()"
   ]
  },
  {
   "cell_type": "markdown",
   "metadata": {},
   "source": [
    "**Question 1:** Merge the population and the national account data, so there is a new column called `population`. Use the **merge function**."
   ]
  },
  {
   "cell_type": "code",
   "execution_count": null,
   "metadata": {},
   "outputs": [],
   "source": [
    "# hint, merged = pd.merge(?,?,how='?',on=[?])\n",
    "# merged_true.tail(10)\n",
    "\n",
    "merged = pd.merge(nah1, pop, how='left', on=['year']) # how - left: use only keys from left frame, similar to a SQL left outer join; preserve key order\n",
    "merged.tail(10)"
   ]
  },
  {
   "cell_type": "markdown",
   "metadata": {},
   "source": [
    "**Answer:** See A2.py"
   ]
  },
  {
   "cell_type": "code",
   "execution_count": null,
   "metadata": {},
   "outputs": [],
   "source": [
    "# Illustration of the use of how='left' in Pandas merge():\n",
    "\n",
    "# Creating left DataFrame\n",
    "left_df = pd.DataFrame({'A': [1, 2, 3],\n",
    "                        'B': ['a', 'b', 'c']})\n",
    "\n",
    "# Creating right DataFrame\n",
    "right_df = pd.DataFrame({'A': [2, 3, 4],\n",
    "                         'C': ['x', 'y', 'z']})\n",
    "\n",
    "# Merging left and right DataFrames using 'A' as the key column\n",
    "merged_left_df = left_df.merge(right_df, how='left', on=['A'])\n",
    "\n",
    "merged_right_df =left_df.merge(right_df, how='right', on=['A'])\n",
    "\n",
    "print(left_df)\n",
    "print('\\n')\n",
    "print(right_df)\n",
    "print('\\n')\n",
    "print(merged_left_df)\n",
    "print('\\n')\n",
    "print(merged_right_df)"
   ]
  },
  {
   "cell_type": "markdown",
   "metadata": {},
   "source": [
    "**Question 2:** Merge the population on again, so there is a new column called `population_alt`. Use the **join method**."
   ]
  },
  {
   "cell_type": "code",
   "execution_count": null,
   "metadata": {},
   "outputs": [],
   "source": [
    "# pop_with_index = pop.set_index(?)\n",
    "# pop_with_index.rename(columns={'population':'population_alt'},inplace=True)\n",
    "# merged_with_index = merged.set_index(?)\n",
    "# merged_alt = merged_with_index.join(?)\n",
    "# merged_alt.tail(10)\n",
    "\n",
    "pop_with_index = pop.set_index('year') # sets the index to 'year' and removes 'year' as a column\n",
    "pop_with_index.rename(columns={'population':'population_alt'},inplace=True)\n",
    "merged_with_index = merged.set_index('year') \n",
    "merged_alt = merged_with_index.join(pop_with_index)\n",
    "merged_alt.tail(10)"
   ]
  },
  {
   "cell_type": "markdown",
   "metadata": {},
   "source": [
    "**Answer:** See A3.py"
   ]
  },
  {
   "cell_type": "markdown",
   "metadata": {},
   "source": [
    "## Split-apply-combine-(plot)"
   ]
  },
  {
   "cell_type": "markdown",
   "metadata": {},
   "source": [
    "Consider the following **split-apply-combine-plot:**"
   ]
  },
  {
   "cell_type": "code",
   "execution_count": null,
   "metadata": {},
   "outputs": [],
   "source": [
    "# a. split\n",
    "nah1_true_grouped = nah1.groupby(['variable','unit'])\n",
    "nah1_true_grouped_first = nah1_true_grouped.value.first()\n",
    "nah1_true_grouped_first.name = 'first'\n",
    "\n",
    "# b. apply\n",
    "nah1.set_index(['variable','unit','year'],inplace=True)\n",
    "nah1 = nah1.join(nah1_true_grouped_first,how='left',on=['variable','unit'])\n",
    "nah1.reset_index(inplace=True)\n",
    "\n",
    "# c. combine\n",
    "nah1['indexed'] = nah1['value']/nah1['first']\n",
    "\n",
    "# d. plot\n",
    "def plot(df,variable='indexed'):\n",
    "    df_indexed = df.set_index('year')\n",
    "    I = df_indexed.unit == 'real'\n",
    "    df_indexed[I].groupby(['variable'])[variable].plot(legend=True);\n",
    "    \n",
    "plot(nah1)"
   ]
  },
  {
   "cell_type": "markdown",
   "metadata": {},
   "source": [
    "**Question** Implement the same split-apply-combine as above using `transform`."
   ]
  },
  {
   "cell_type": "code",
   "execution_count": null,
   "metadata": {},
   "outputs": [],
   "source": [
    "# def first(x): # select the first element in a series\n",
    "#     return x.iloc[0]\n",
    "\n",
    "# nah1_alt = nah1.copy()\n",
    "# grouped = nah1_alt.groupby(?)\n",
    "# nah1_alt[?] = ?.transform(lambda x: ?)\n",
    "# nah1_alt.head()\n",
    "\n",
    "nah1_alt = nah1.copy()\n",
    "grouped = nah1_alt.groupby(['variable','unit'])\n",
    "nah1_alt['index_transform'] = grouped['value'].transform(lambda x: x/ x.iloc[0])\n",
    "nah1_alt.head()\n",
    "\n",
    "# the transform() function is used to apply a function to each group separately and then return a DataFrame with the same shape as the original DataFrame"
   ]
  },
  {
   "cell_type": "code",
   "execution_count": null,
   "metadata": {},
   "outputs": [],
   "source": [
    "plot(nah1_alt,variable='index_transform')"
   ]
  },
  {
   "cell_type": "markdown",
   "metadata": {},
   "source": [
    "**Answer:** See A4.py"
   ]
  },
  {
   "cell_type": "markdown",
   "metadata": {},
   "source": [
    "# Problem: The Housing market\n"
   ]
  },
  {
   "cell_type": "markdown",
   "metadata": {},
   "source": [
    "## Housing data"
   ]
  },
  {
   "cell_type": "markdown",
   "metadata": {},
   "source": [
    "**Note:** The file `data/bm010_parcel.xlsx` has been downloaded from http://rkr.statistikbank.dk/201.\n",
    "\n",
    "**Question:** Go through the cell below and ensure you understand ALL commands."
   ]
  },
  {
   "cell_type": "code",
   "execution_count": null,
   "metadata": {},
   "outputs": [],
   "source": [
    "# a. load data\n",
    "prices = pd.read_excel('data/bm010_parcel.xlsx', skiprows=2)\n",
    "prices.rename(columns={'Unnamed: 2': 'municipality'}, inplace=True)\n",
    "\n",
    "# b. delete columns\n",
    "del prices['Unnamed: 0']\n",
    "del prices['Unnamed: 1']\n",
    "\n",
    "# c. rename time columns: 1992K1 -> price19921\n",
    "time_dict = {} \n",
    "for y in range(1992,2021+1): \n",
    "    for k in range(1,4+1): \n",
    "        str_from = f'{y}K{k}'\n",
    "        str_to   = f'price{y}{k}'\n",
    "        time_dict[str_from] = str_to\n",
    "prices = prices.rename(columns = time_dict)        \n",
    "\n",
    "# d. drop missing\n",
    "prices = prices.dropna()\n",
    "\n",
    "# e. convert to long\n",
    "prices_long = pd.wide_to_long(prices, stubnames='price', i='municipality', j='year_quarter')\n",
    "prices_long.reset_index(inplace=True)\n",
    "\n",
    "# f. drop missing and convert to float\n",
    "I = prices_long.loc[prices_long.price == '..']\n",
    "prices_long.drop(I.index, inplace=True)\n",
    "prices_long.price = prices_long.price.astype('float')\n",
    "\n",
    "# g. create date variable\n",
    "prices_long['d'] = (prices_long.year_quarter.astype(str).str[:4] # grab the year, first four digits\n",
    "          + 'Q' # add the letter Q \n",
    "          + prices_long.year_quarter.astype(str).str[4]) # the quarter (fifth digit)\n",
    "prices_long['date'] = pd.PeriodIndex(prices_long.d,freq='Q').to_timestamp() # Convert to datetime\n",
    "# prices_long['date'] = pd.to_datetime(prices_long.d) This works just as well but throws a warning\n",
    "\n",
    "\n",
    "# h. cleanup \n",
    "del prices_long['year_quarter']\n",
    "del prices_long['d']\n",
    "\n",
    "prices_long.head()"
   ]
  },
  {
   "cell_type": "markdown",
   "metadata": {},
   "source": [
    "## Population data"
   ]
  },
  {
   "cell_type": "markdown",
   "metadata": {},
   "source": [
    "**Question:** Go through the cell below and ensure you understand ALL commands."
   ]
  },
  {
   "cell_type": "code",
   "execution_count": null,
   "metadata": {},
   "outputs": [],
   "source": [
    "# a. Initiate dstapi \n",
    "folk1a_api = DstApi('FOLK1A')\n",
    "\n",
    "# b. Define which data to load\n",
    "params = folk1a_api._define_base_params(language='en')\n",
    "params['variables'][1]['values'] = ['TOT']\n",
    "params['variables'][2]['values'] = ['IALT']\n",
    "params['variables'][3]['values'] = ['TOT']\n",
    "\n",
    "# c. Load data\n",
    "pop = folk1a_api.get_data(params=params)\n",
    "\n",
    "\n",
    "# d. drop and rename columns\n",
    "for v in ['ALDER', 'CIVILSTAND', 'KØN']: \n",
    "    del pop[v]\n",
    "pop = pop.rename(columns = {'INDHOLD':'population', 'OMRÅDE': 'municipality'})\n",
    "\n",
    "# e. drop non-municipalities\n",
    "for val in ['Region', 'All']: \n",
    "    I = pop['municipality'].str.contains(val)\n",
    "    pop.drop(pop[I].index, inplace=True)\n",
    "\n",
    "# f. convert to date\n",
    "pop['date'] = pd.PeriodIndex(pop.TID,freq='Q').to_timestamp() # Convert to datetime\n",
    "del pop['TID']\n",
    "\n",
    "pop.head()"
   ]
  },
  {
   "cell_type": "markdown",
   "metadata": {},
   "source": [
    "## Analysis"
   ]
  },
  {
   "cell_type": "markdown",
   "metadata": {},
   "source": [
    "**Problem:** Analyze the co-variation betwen population growth and house price growth. Reproduce the graphs below. \n",
    "\n",
    "**Hint:** For the second one consider the `agg` method (similar to but different from `transform`, Google it)."
   ]
  },
  {
   "cell_type": "code",
   "execution_count": null,
   "metadata": {},
   "outputs": [],
   "source": [
    "# figure 1\n",
    "\n",
    "# a. Merge the prices_lon and the population data, so there is a new column called `population`\n",
    "merge_pop_price = pop.merge(prices_long, how='left', on=['date','municipality'])\n",
    "merge_pop_price.sort_values(['date', 'municipality'], inplace=True)\n",
    "\n",
    "# b. Take logs of population and prices\n",
    "merge_pop_price['log_pop'] = np.log(merge_pop_price['population'])\n",
    "merge_pop_price['log_price'] = np.log(merge_pop_price['price'])\n",
    "\n",
    "# take the log difference in population\n",
    "merge_pop_price[['d_log_pop','d_log_price']] = merge_pop_price.groupby('municipality')[['log_pop','log_price']].diff(1) # computes the difference between each element and the element immediately following it\n",
    "\n",
    "# c. Plotting\n",
    "ax = merge_pop_price.plot(x = 'd_log_pop', y = 'd_log_price', kind = 'scatter',\n",
    "               c='log_pop',cmap='Blues',alpha=0.5); \n",
    "\n",
    "ax.set_xlabel('log difference in population') \n",
    "ax.set_ylabel('log difference in price');"
   ]
  },
  {
   "attachments": {},
   "cell_type": "markdown",
   "metadata": {},
   "source": [
    "**Answer:** See A5.py for difference in population within municipality. See A6.py for average difference within municipality"
   ]
  },
  {
   "cell_type": "code",
   "execution_count": null,
   "metadata": {},
   "outputs": [],
   "source": [
    "# Run is juptyer magic for running py files inside a notebook\n",
    "%run -i A5.py"
   ]
  },
  {
   "cell_type": "code",
   "execution_count": null,
   "metadata": {},
   "outputs": [],
   "source": [
    "# figure 2\n",
    "\n",
    "# c. mean log differences\n",
    "def mean_diff(x):\n",
    "    return np.mean(x.diff())\n",
    "\n",
    "m_grouped = merge_pop_price.groupby('municipality').agg({'log_pop':[mean_diff,'last'],'log_price':mean_diff})\n",
    "m_grouped.columns = ['md_log_pop','last_log_pop','md_log_price']\n",
    "\n",
    "\n",
    "# d. Plotting\n",
    "ax = m_grouped.plot(x = 'md_log_pop', y = 'md_log_price', kind = 'scatter',\n",
    "               c='last_log_pop',cmap='Blues',alpha=0.5); \n",
    "\n",
    "ax.set_xlabel('within-municipality mean log difference in price') \n",
    "ax.set_ylabel('within-municipality mean log difference in price');"
   ]
  },
  {
   "cell_type": "code",
   "execution_count": null,
   "metadata": {},
   "outputs": [],
   "source": [
    "# Run is jupyer magic for running py files inside a notebook\n",
    "%run -i A6.py"
   ]
  }
 ],
 "metadata": {
  "kernelspec": {
   "display_name": "Python 3 (ipykernel)",
   "language": "python",
   "name": "python3"
  },
  "language_info": {
   "codemirror_mode": {
    "name": "ipython",
    "version": 3
   },
   "file_extension": ".py",
   "mimetype": "text/x-python",
   "name": "python",
   "nbconvert_exporter": "python",
   "pygments_lexer": "ipython3",
   "version": "3.11.5"
  },
  "toc-autonumbering": true
 },
 "nbformat": 4,
 "nbformat_minor": 4
}
