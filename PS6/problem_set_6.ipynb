{
 "cells": [
  {
   "cell_type": "markdown",
   "metadata": {},
   "source": [
    "# Problem set 6: Solving the Solow model"
   ]
  },
  {
   "cell_type": "code",
   "execution_count": 215,
   "metadata": {},
   "outputs": [],
   "source": [
    "import numpy as np\n",
    "from scipy import linalg\n",
    "from scipy import optimize\n",
    "import sympy as sm"
   ]
  },
  {
   "cell_type": "markdown",
   "metadata": {},
   "source": [
    "# Tasks"
   ]
  },
  {
   "cell_type": "markdown",
   "metadata": {},
   "source": [
    "## Solving matrix equations I"
   ]
  },
  {
   "cell_type": "code",
   "execution_count": 216,
   "metadata": {},
   "outputs": [],
   "source": [
    "np.random.seed(1900)\n",
    "n = 5\n",
    "A = np.random.uniform(size=(n,n))\n",
    "b = np.random.uniform(size=n)\n",
    "c = np.random.uniform(size=n)\n",
    "d = np.random.uniform(size=n)"
   ]
  },
  {
   "cell_type": "markdown",
   "metadata": {},
   "source": [
    "**Question A:** Find the determinant of $[A \\cdot A]^{-1}$"
   ]
  },
  {
   "cell_type": "code",
   "execution_count": 217,
   "metadata": {},
   "outputs": [
    {
     "name": "stdout",
     "output_type": "stream",
     "text": [
      "13132.55\n"
     ]
    }
   ],
   "source": [
    "# write your code here\n",
    "\n",
    "# X = linalg.det(linalg.inv(A@A))\n",
    "\n",
    "A_A = np.matmul(A, A) # A@A\n",
    "A_A_inv = linalg.inv(A_A)\n",
    "det = linalg.det(A_A_inv)\n",
    "\n",
    "print(round(det, 2))"
   ]
  },
  {
   "cell_type": "markdown",
   "metadata": {},
   "source": [
    "**Answer:** see A1.py"
   ]
  },
  {
   "cell_type": "markdown",
   "metadata": {},
   "source": [
    "**Question B:** Solve the following equation systems directly using **scipy**.\n",
    "\n",
    "$$\n",
    "\\begin{aligned}\n",
    "Ax &= b \\\\\n",
    "Ax &= c \\\\\n",
    "Ax &= d \n",
    "\\end{aligned}\n",
    "$$"
   ]
  },
  {
   "cell_type": "code",
   "execution_count": 218,
   "metadata": {},
   "outputs": [
    {
     "name": "stdout",
     "output_type": "stream",
     "text": [
      "b = [-15.33 -24.01  40.03  15.24   4.89]\n",
      "c = [ -7.72 -11.64  20.87   7.93   1.56]\n",
      "d = [-2.57 -4.    7.93  2.56  1.26]\n"
     ]
    }
   ],
   "source": [
    "xb = linalg.solve(A, b)\n",
    "xc = linalg.solve(A, c)\n",
    "xd = linalg.solve(A, d)\n",
    "\n",
    "print('b =', np.round(xb, 2))\n",
    "print('c =', np.round(xc, 2))\n",
    "print('d =', np.round(xd, 2))"
   ]
  },
  {
   "cell_type": "markdown",
   "metadata": {},
   "source": [
    "**Answer:** A2.py"
   ]
  },
  {
   "cell_type": "markdown",
   "metadata": {},
   "source": [
    "**Question C:** Solve the same equation systems as above using `linalg.lu_factor()` and `linalg.lu_solve()`. What is the benefit of this approach?"
   ]
  },
  {
   "cell_type": "code",
   "execution_count": 219,
   "metadata": {},
   "outputs": [
    {
     "name": "stdout",
     "output_type": "stream",
     "text": [
      "b = [-15.33 -24.01  40.03  15.24   4.89]\n",
      "c = [ -7.72 -11.64  20.87   7.93   1.56]\n",
      "d = [-2.57 -4.    7.93  2.56  1.26]\n"
     ]
    }
   ],
   "source": [
    "lu, piv = linalg.lu_factor(A) # done only once\n",
    "\n",
    "sol_b = linalg.lu_solve((lu, piv), b) # faster than regular linalg.solve\n",
    "sol_c = linalg.lu_solve((lu, piv), c)\n",
    "sol_d = linalg.lu_solve((lu, piv), d)\n",
    "\n",
    "print('b =', np.round(sol_b, 2))\n",
    "print('c =', np.round(sol_c, 2))\n",
    "print('d =', np.round(sol_d, 2))"
   ]
  },
  {
   "cell_type": "markdown",
   "metadata": {},
   "source": [
    "**Answer:** A3.py"
   ]
  },
  {
   "cell_type": "markdown",
   "metadata": {},
   "source": [
    "## Solving matrix equations II"
   ]
  },
  {
   "cell_type": "code",
   "execution_count": 220,
   "metadata": {},
   "outputs": [
    {
     "name": "stdout",
     "output_type": "stream",
     "text": [
      "F:\n",
      " [[ 2.  1. -1.]\n",
      " [-3. -1.  2.]\n",
      " [-2.  1.  2.]]\n",
      "\n",
      "e:\n",
      " [  8. -11.  -3.]\n",
      "\n",
      "X:\n",
      " [[  2.   1.  -1.   8.]\n",
      " [ -3.  -1.   2. -11.]\n",
      " [ -2.   1.   2.  -3.]]\n"
     ]
    }
   ],
   "source": [
    "F = np.array([[2.0, 1.0, -1.0], [-3.0, -1.0, 2], [-2.0, 1.0, 2.0]])\n",
    "e = np.array([8.0, -11.0, -3.0])\n",
    "\n",
    "X = np.column_stack((F, e)) \n",
    "\n",
    "print('F:\\n', F)\n",
    "print('')\n",
    "print('e:\\n',e)\n",
    "print('')\n",
    "print('X:\\n',X)\n"
   ]
  },
  {
   "cell_type": "markdown",
   "metadata": {},
   "source": [
    "**Question:** Use the function `gauss_jordan()` in the `numecon_linalg` module located in this folder to solve\n",
    "\n",
    "$$\n",
    "Fx = e\n",
    "$$"
   ]
  },
  {
   "cell_type": "code",
   "execution_count": 221,
   "metadata": {},
   "outputs": [
    {
     "name": "stdout",
     "output_type": "stream",
     "text": [
      "solution [ 2.  3. -1.]\n"
     ]
    }
   ],
   "source": [
    "# write your code here\n",
    "\n",
    "import numecon_linalg as nl\n",
    "\n",
    "\n",
    "# column_stack: take a sequence of 1-D arrays and stack them as columns to make a single 2-D array\n",
    "X = np.column_stack((F, e)) \n",
    "\n",
    "# Gauss-Jordan elimination on the matrix X\n",
    "nl.gauss_jordan(X)\n",
    "\n",
    "# prints only last column of X, assuming the solution is stored in that column\n",
    "print('solution', X[:,-1])\n",
    "\n",
    "assert np.allclose(F@X[:,-1], e)\n"
   ]
  },
  {
   "cell_type": "markdown",
   "metadata": {},
   "source": [
    "**Answer:** see A4.py"
   ]
  },
  {
   "cell_type": "markdown",
   "metadata": {},
   "source": [
    "## Symbolic"
   ]
  },
  {
   "cell_type": "markdown",
   "metadata": {},
   "source": [
    "**Question A:** Find\n",
    "\n",
    "$$\n",
    "\\lim_{x \\rightarrow 0} \\frac{\\sin(x)}{x}\n",
    "$$\n",
    "\n",
    "and\n",
    "\n",
    "$$\n",
    "\\frac{\\partial\\sin(2x)}{\\partial x} \n",
    "$$"
   ]
  },
  {
   "cell_type": "code",
   "execution_count": 222,
   "metadata": {},
   "outputs": [
    {
     "name": "stdout",
     "output_type": "stream",
     "text": [
      "Limit of the expression tends to 0 at: 1\n"
     ]
    }
   ],
   "source": [
    "# write your code here - limit\n",
    "\n",
    "x = sm.symbols('x')\n",
    "expr = sin(x)/x\n",
    "\n",
    "limit_expr = sm.limit(expr, x, 0)\n",
    "\n",
    "print('Limit of the expression tends to 0 at:', limit_expr)"
   ]
  },
  {
   "cell_type": "code",
   "execution_count": 223,
   "metadata": {},
   "outputs": [
    {
     "data": {
      "text/latex": [
       "$\\displaystyle 2 \\cos{\\left(2 x \\right)}$"
      ],
      "text/plain": [
       "2*cos(2*x)"
      ]
     },
     "execution_count": 223,
     "metadata": {},
     "output_type": "execute_result"
    }
   ],
   "source": [
    "# write your code here - derivative\n",
    "\n",
    "x = sm.symbols('x')\n",
    "expr = sin(2*x)\n",
    "\n",
    "sm.diff(expr)\n",
    "\n",
    "# print('The derivative of the expression is:', dev)"
   ]
  },
  {
   "cell_type": "markdown",
   "metadata": {},
   "source": [
    "**Answer:** A5.py"
   ]
  },
  {
   "cell_type": "markdown",
   "metadata": {},
   "source": [
    "**Question B:** Solve the equation\n",
    "\n",
    "$$ \n",
    "\\frac{\\sin(x)}{x} = 0\n",
    "$$"
   ]
  },
  {
   "cell_type": "code",
   "execution_count": 224,
   "metadata": {},
   "outputs": [
    {
     "data": {
      "text/plain": [
       "[pi]"
      ]
     },
     "execution_count": 224,
     "metadata": {},
     "output_type": "execute_result"
    }
   ],
   "source": [
    "# write your code here\n",
    "\n",
    "expr = sin(x)/x \n",
    "\n",
    "sm.solve(expr, x)"
   ]
  },
  {
   "cell_type": "markdown",
   "metadata": {},
   "source": [
    "**Answer:** A6.py"
   ]
  },
  {
   "cell_type": "markdown",
   "metadata": {},
   "source": [
    "# Problem: Solve the Solow model"
   ]
  },
  {
   "cell_type": "markdown",
   "metadata": {},
   "source": [
    "## Introduction"
   ]
  },
  {
   "cell_type": "markdown",
   "metadata": {},
   "source": [
    "Consider the **standard Solow-model** where:\n",
    "\n",
    "1. $K_t$ is capital2\n",
    "2. $L_t$ is labor (growing with a constant rate of $n$)\n",
    "3. $A_t$ is technology (growing with a constant rate of $g$)\n",
    "4. $Y_t = F(K_t,A_tL_t)$ is GDP\n",
    "\n",
    "**Saving** is a constant fraction of GDP\n",
    "\n",
    "$$ \n",
    "S_t = sY_t,\\,s\\in(0,1)\n",
    "$$\n",
    "\n",
    "such that **capital accumulates** according to\n",
    "\n",
    "$$\n",
    "K_{t+1}=S_{t}+(1-\\delta)K_{t}=sF(K_{t},A_{t}L_{t})+(1-\\delta)K_{t}, \\delta \\in (0,1)\n",
    "$$\n",
    "\n",
    "The **production function** has **constant-return to scale** such that\n",
    "\n",
    "$$\n",
    "\\frac{Y_{t}}{A_{t}L_{t}}=\\frac{F(K_{t},A_{t}L_{t})}{A_{t}L_{t}}=F(\\tilde{k}_{t},1)\\equiv f(\\tilde{k}_{t})\n",
    "$$\n",
    "\n",
    "where $\\tilde{k}_t = \\frac{K_t}{A_{t}L_{t}}$ is the technology adjusted capital-labor ratio.\n",
    "\n",
    "The **transition equation** then becomes\n",
    "\n",
    "$$\n",
    "\\tilde{k}_{t+1}= \\frac{1}{(1+n)(1+g)}[sf(\\tilde{k}_{t})+(1-\\delta)\\tilde{k}_{t}]\n",
    "$$\n",
    "\n",
    "If the **production function** is **Cobb-Douglas** then\n",
    "\n",
    "$$\n",
    "F(K_{t},A_{t}L_{t})=K_{t}^{\\alpha}(A_{t}L_{t})^{1-\\alpha}\\Rightarrow f(\\tilde{k}_{t})=\\tilde{k}_{t}^{\\alpha}\n",
    "$$\n",
    "\n",
    "If it is **CES** (with $\\beta < 1, \\beta \\neq 0$) then\n",
    "\n",
    "$$\n",
    "F(K_{t},A_{t}L_{t})=(\\alpha K_{t}^{\\beta}+(1-\\alpha)(A_{t}L_{t})^{\\beta})^{\\frac{1}{\\beta}}\\Rightarrow f(\\tilde{k}_{t})=(\\alpha\\tilde{k}_{t}^{\\beta}+(1-\\alpha))^{\\frac{1}{\\beta}}\n",
    "$$"
   ]
  },
  {
   "cell_type": "markdown",
   "metadata": {},
   "source": [
    "## Steady state"
   ]
  },
  {
   "cell_type": "markdown",
   "metadata": {},
   "source": [
    "Assume the production function is **Cobb-Douglas**."
   ]
  },
  {
   "cell_type": "markdown",
   "metadata": {},
   "source": [
    "**Question A:** Use **sympy** to find an analytical expression for the steady state, i.e. solve\n",
    "\n",
    "$$\n",
    "\\tilde{k}^{\\ast}= \\frac{1}{(1+n)(1+g)}[sf(\\tilde{k}^{\\ast})+(1-\\delta)\\tilde{k}^{\\ast}]\n",
    "$$"
   ]
  },
  {
   "cell_type": "code",
   "execution_count": 225,
   "metadata": {},
   "outputs": [],
   "source": [
    "k = sm.symbols('k')\n",
    "alpha = sm.symbols('alpha')\n",
    "delta = sm.symbols('delta')\n",
    "s = sm.symbols('s')\n",
    "g = sm.symbols('g')\n",
    "n = sm.symbols('n')"
   ]
  },
  {
   "cell_type": "code",
   "execution_count": 226,
   "metadata": {},
   "outputs": [
    {
     "data": {
      "text/latex": [
       "$\\displaystyle \\left(\\frac{\\delta + g n + g + n}{s}\\right)^{\\frac{1}{\\alpha - 1}}$"
      ],
      "text/plain": [
       "((delta + g*n + g + n)/s)**(1/(alpha - 1))"
      ]
     },
     "execution_count": 226,
     "metadata": {},
     "output_type": "execute_result"
    }
   ],
   "source": [
    "# write your code here\n",
    "\n",
    "f = k**alpha\n",
    "\n",
    "expr = (s*f+(1-delta)*k)/((1+n)*(1+g))\n",
    "\n",
    "# symbolic equations in SymPy are represented as sm.Eq(x, y)\n",
    "fun = sm.Eq(k, expr)\n",
    "\n",
    "sol = sm.solve(fun, k)[0]\n",
    "\n",
    "sol\n"
   ]
  },
  {
   "cell_type": "markdown",
   "metadata": {},
   "source": [
    "**Answer:** see A7.py"
   ]
  },
  {
   "cell_type": "markdown",
   "metadata": {},
   "source": [
    "**Question B:** Turn you solution into a Python function called as `ss_func(s,g,n,delta,alpha)`. "
   ]
  },
  {
   "cell_type": "code",
   "execution_count": 227,
   "metadata": {},
   "outputs": [
    {
     "data": {
      "text/plain": [
       "1.903831539231319"
      ]
     },
     "execution_count": 227,
     "metadata": {},
     "output_type": "execute_result"
    }
   ],
   "source": [
    "# write your code here\n",
    "\n",
    "ss_func = sm.lambdify((s,g,n,delta,alpha), sol)\n",
    "\n",
    "# Evaluate function  in some points\n",
    "ss_func(0.2,0.02,0.01,0.1,1/3)\n"
   ]
  },
  {
   "cell_type": "markdown",
   "metadata": {},
   "source": [
    "**Answer:** A8.py"
   ]
  },
  {
   "cell_type": "markdown",
   "metadata": {},
   "source": [
    "**Question C**: Find the steady state numerically using root-finding with `optimize.root_scalar`."
   ]
  },
  {
   "cell_type": "code",
   "execution_count": 228,
   "metadata": {},
   "outputs": [
    {
     "name": "stdout",
     "output_type": "stream",
     "text": [
      "The steady state for k is 1.903831539231108\n"
     ]
    }
   ],
   "source": [
    "s = 0.2\n",
    "g = 0.02\n",
    "n = 0.01\n",
    "alpha = 1/3\n",
    "delta = 0.1\n",
    "\n",
    "# write your code here - you should obtrain the same result as in question B/A8.py if run with the same numbers as above\n",
    "\n",
    "# Define the production function: f = lambda k: k**alpha\n",
    "def f(k):\n",
    "    return k ** alpha\n",
    "\n",
    "# Define the objective function for finding the steady state of k: obj_kss = lambda kss: kss - (s*f(kss) + (1-delta)*kss)/((1+g)*(1+n))\n",
    "def obj_kss(kss):\n",
    "    return kss - (s * f(kss) + (1 - delta) * kss) / ((1 + g) * (1 + n)) \n",
    "\n",
    "# Test if the function changes sign between these two points\n",
    "lower_bound = 0.1\n",
    "upper_bound = 100\n",
    "\n",
    "# you typically need to provide two initial values that bracket the root, meaning the function changes sign between these two initial values\n",
    "# may differ depending on which method you choose to use\n",
    "if obj_kss(lower_bound) * obj_kss(upper_bound) < 0:\n",
    "    result = optimize.root_scalar(obj_kss, bracket=[lower_bound, upper_bound], method='bisect')\n",
    "    print('The steady state for k is', result.root)\n",
    "else:\n",
    "    print(\"Root not bracketed. Choose different initial bounds.\")\n",
    "\n",
    "#result = optimize.root_scalar(obj_kss, bracket=[0.1,100], method='bisect')\n",
    "#print('the steady state for k is', result.root)   "
   ]
  },
  {
   "cell_type": "markdown",
   "metadata": {},
   "source": [
    "**Answer:** A9.py"
   ]
  },
  {
   "cell_type": "markdown",
   "metadata": {},
   "source": [
    "**Question D:** Now assume the production function is CES. Find the steady state for $k$ for the various values of $\\beta$ shown below."
   ]
  },
  {
   "cell_type": "code",
   "execution_count": 229,
   "metadata": {},
   "outputs": [
    {
     "name": "stdout",
     "output_type": "stream",
     "text": [
      "for beta = -0.500 the steady state for k is 1.847\n",
      "for beta = -0.250 the steady state for k is 1.873\n",
      "for beta = -0.100 the steady state for k is 1.891\n",
      "for beta = -0.050 the steady state for k is 1.897\n",
      "for beta = 0.050 the steady state for k is 1.911\n",
      "for beta = 0.100 the steady state for k is 1.917\n",
      "for beta = 0.250 the steady state for k is 1.94\n",
      "for beta = 0.500 the steady state for k is 1.982\n"
     ]
    }
   ],
   "source": [
    "betas = [-0.5, -0.25, -0.1, -0.05, 0.05, 0.1, 0.25, 0.5]\n",
    "\n",
    "# write your code here\n",
    "\n",
    "# CES: constant elasticity of substitution - production function\n",
    "\n",
    "lower_bound = 0.1\n",
    "upper_bound = 100\n",
    "\n",
    "for beta in betas:\n",
    "    f = lambda k: (alpha*k**beta + (1-alpha))**(1/beta)\n",
    "    obj_kss = lambda kss: kss - (s*f(kss) + (1-delta)*kss)/((1+g)*(1+n))\n",
    "    \n",
    "    if obj_kss(lower_bound) * obj_kss(upper_bound) < 0:\n",
    "        result = optimize.root_scalar(obj_kss, bracket=[lower_bound, upper_bound], method='bisect')\n",
    "        print(f'for beta = {beta:.3f} the steady state for k is', round(result.root, 3)) \n",
    "    else:\n",
    "        print(\"Root not bracketed. Choose different initial bounds.\")\n"
   ]
  },
  {
   "cell_type": "markdown",
   "metadata": {
    "tags": []
   },
   "source": [
    "**Answer:** A10.py   "
   ]
  }
 ],
 "metadata": {
  "kernelspec": {
   "display_name": "Python 3 (ipykernel)",
   "language": "python",
   "name": "python3"
  },
  "language_info": {
   "codemirror_mode": {
    "name": "ipython",
    "version": 3
   },
   "file_extension": ".py",
   "mimetype": "text/x-python",
   "name": "python",
   "nbconvert_exporter": "python",
   "pygments_lexer": "ipython3",
   "version": "3.11.5"
  },
  "toc-autonumbering": true
 },
 "nbformat": 4,
 "nbformat_minor": 4
}
