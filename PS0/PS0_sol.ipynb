{
 "cells": [
  {
   "cell_type": "markdown",
   "metadata": {},
   "source": [
    "# Problem Set 0: Getting Started"
   ]
  },
  {
   "cell_type": "code",
   "execution_count": 73,
   "metadata": {},
   "outputs": [
    {
     "name": "stdout",
     "output_type": "stream",
     "text": [
      "3\n"
     ]
    }
   ],
   "source": [
    "a = 1\n",
    "b = 2\n",
    "c= a + b\n",
    "print(c)"
   ]
  },
  {
   "cell_type": "markdown",
   "metadata": {},
   "source": [
    "Try out the tips for VSCode found on: https://sites.google.com/view/numeconcph-introprog/guides/vscode"
   ]
  },
  {
   "cell_type": "code",
   "execution_count": 74,
   "metadata": {},
   "outputs": [
    {
     "name": "stdout",
     "output_type": "stream",
     "text": [
      "[0, 1]\n",
      "[2, 3, 4, 5]\n"
     ]
    }
   ],
   "source": [
    "# slicing\n",
    "\n",
    "x = [0,1,2,3,4,5]\n",
    "print(x[:2])\n",
    "print(x[2:])"
   ]
  },
  {
   "cell_type": "code",
   "execution_count": 75,
   "metadata": {},
   "outputs": [
    {
     "name": "stdout",
     "output_type": "stream",
     "text": [
      "[1, 2, 4]\n"
     ]
    }
   ],
   "source": [
    "# references\n",
    "\n",
    "x = [1,2,3]\n",
    "y = x\n",
    "y[-1] = 4 # y[2] = 4\n",
    "print(x)"
   ]
  },
  {
   "cell_type": "code",
   "execution_count": 76,
   "metadata": {},
   "outputs": [
    {
     "name": "stdout",
     "output_type": "stream",
     "text": [
      "0\n",
      "1\n"
     ]
    }
   ],
   "source": [
    "# loops - break\n",
    "\n",
    "for i in range (5):\n",
    "    if i >= 2: break\n",
    "    print(i)"
   ]
  },
  {
   "cell_type": "code",
   "execution_count": 77,
   "metadata": {},
   "outputs": [
    {
     "name": "stdout",
     "output_type": "stream",
     "text": [
      "0\n",
      "1\n",
      "3\n",
      "4\n"
     ]
    }
   ],
   "source": [
    "# loops - continue\n",
    "\n",
    "for i in range (5):\n",
    "    if i == 2: continue\n",
    "    print(i)"
   ]
  },
  {
   "cell_type": "code",
   "execution_count": 78,
   "metadata": {},
   "outputs": [
    {
     "name": "stdout",
     "output_type": "stream",
     "text": [
      "just right\n"
     ]
    }
   ],
   "source": [
    "# conditionals\n",
    "\n",
    "x = 3\n",
    "if x > 3:\n",
    "    print('too big')\n",
    "elif x < 1:\n",
    "    print('too small')\n",
    "else:\n",
    "    print('just right')"
   ]
  },
  {
   "cell_type": "code",
   "execution_count": 79,
   "metadata": {},
   "outputs": [
    {
     "name": "stdout",
     "output_type": "stream",
     "text": [
      "2\n",
      "2\n",
      "3\n",
      "2\n"
     ]
    }
   ],
   "source": [
    "# functions and scope\n",
    "\n",
    "a = 1\n",
    "def f(x):\n",
    "    return x+a # a is global variable\n",
    "def g(x,a=1):\n",
    "    return x+a # a is local variable\n",
    "print(f(1))\n",
    "print(g(1))\n",
    "a = 2\n",
    "print(f(1))\n",
    "print(g(1))"
   ]
  },
  {
   "cell_type": "code",
   "execution_count": 80,
   "metadata": {},
   "outputs": [
    {
     "name": "stdout",
     "output_type": "stream",
     "text": [
      "False\n",
      "True\n",
      "True\n",
      "True\n",
      "True\n",
      "True\n"
     ]
    }
   ],
   "source": [
    "# floating points\n",
    "\n",
    "import numpy as np\n",
    "\n",
    "print(0.1 + 0.2 == 0.3)   # Floating-point precision issues - This is False because 0.1, 0.2 and 0.3 cannot be precisely represented in base 2 floating-point - the limitations of floating-point precision\n",
    "# print(0.1 - 0.3 == 0.2) # Floating-point numbers in computers are represented in binary, and some decimal numbers cannot be precisely represented in the binary system.\n",
    "\n",
    "# epsilon = 1e-10\n",
    "# result = abs(0.1 + 0.2 - 0.3) < epsilon\n",
    "# print('Accounting for rounding error: ',result)\n",
    "\n",
    "print(0.5 + 0.5 == 1.0)\n",
    "print(np.isclose (0.1+0.2 ,0.3))\n",
    "print(np.isclose(1e-200 * 1e200 * 1e200 * 1e-200, 1.0))\n",
    "print(np.isinf(1e-200 * (1e200 * 1e200) * 1e-200)) # Test element-wise for positive or negative infinity.\n",
    "print(np.isclose(1e200 * (1e-200 * 1e-200) * 1e200, 0.0))"
   ]
  },
  {
   "cell_type": "code",
   "execution_count": 81,
   "metadata": {},
   "outputs": [
    {
     "name": "stdout",
     "output_type": "stream",
     "text": [
      "[3 4 5]\n"
     ]
    }
   ],
   "source": [
    "# numpy\n",
    "# A numpy array is a grid of values, all of the same type, \n",
    "# and is indexed by a tuple of nonnegative integers\n",
    "\n",
    "import numpy as np\n",
    "\n",
    "x = np.array([1,2,3])\n",
    "\n",
    "# refrences the same data as x - not just a copy\n",
    "y = x    \n",
    "\n",
    "# modifies existing array x by adding 1 to each element (in-place operation)\n",
    "x += 1    \n",
    "\n",
    "# modifies the existing array x and updates each element of the array x by adding 1 to each current element (in-place operation)\n",
    "x[:] = x + 1\n",
    "\n",
    "# creates new array by adding 1 to each element in the original array.\n",
    "# this operation does not affect the array that y is refrencing\n",
    "# adds 1 to each element of the array x, creating a new array and assigning it to the variable x. This operation doesn't affect the array y because y still points to the original array. After this operation, x becomes [4, 5, 6]\n",
    "x = x + 1    \n",
    "          \n",
    "print(y)\n",
    "\n",
    "# An in-place operation modifies the existing data structure directly, with- \n",
    "# out creating a new one. The changes occur within the same memory location, \n",
    "# and any variables referencing the structure reflect the modifications."
   ]
  },
  {
   "cell_type": "code",
   "execution_count": 82,
   "metadata": {},
   "outputs": [
    {
     "name": "stdout",
     "output_type": "stream",
     "text": [
      "4\n"
     ]
    }
   ],
   "source": [
    "# classes\n",
    "\n",
    "class SquareClass:\n",
    "    def __init__(self ,length ,width):\n",
    "        self.length = length\n",
    "        self.width = width\n",
    "    def size(self):\n",
    "        return self.length*self.width\n",
    "square = SquareClass (2,2)\n",
    "print(square.size())"
   ]
  }
 ],
 "metadata": {
  "kernelspec": {
   "display_name": "Python 3",
   "language": "python",
   "name": "python3"
  },
  "language_info": {
   "codemirror_mode": {
    "name": "ipython",
    "version": 3
   },
   "file_extension": ".py",
   "mimetype": "text/x-python",
   "name": "python",
   "nbconvert_exporter": "python",
   "pygments_lexer": "ipython3",
   "version": "3.11.5"
  }
 },
 "nbformat": 4,
 "nbformat_minor": 2
}
