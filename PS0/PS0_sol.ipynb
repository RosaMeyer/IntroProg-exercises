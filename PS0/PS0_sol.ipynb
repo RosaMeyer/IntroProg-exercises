{
 "cells": [
  {
   "cell_type": "markdown",
   "metadata": {},
   "source": [
    "# Problem Set 0: Getting Started"
   ]
  },
  {
   "cell_type": "markdown",
   "metadata": {},
   "source": [
    "#### This \"solution\" mainly consists of comments to the parts of **problem set 0** that most people had questiones for or had trouble understanding at first glance during the two exercise classes. I added a few extra examples and explanations where I thought necessary.\n",
    "#### \n",
    "#### Rather than really being a solution this notebook works more like a commentary notebook. Please feel free to email me at any given time at jdc334@alumni.ku.dk with questions, ways to improve the classes and my teaching skills or any other enquiry related to the course!"
   ]
  },
  {
   "cell_type": "code",
   "execution_count": 139,
   "metadata": {},
   "outputs": [
    {
     "name": "stdout",
     "output_type": "stream",
     "text": [
      "3\n"
     ]
    }
   ],
   "source": [
    "a = 1\n",
    "b = 2\n",
    "c = a + b\n",
    "print(c)"
   ]
  },
  {
   "cell_type": "markdown",
   "metadata": {},
   "source": [
    "Try out the tips for VSCode found on: https://sites.google.com/view/numeconcph-introprog/guides/vscode"
   ]
  },
  {
   "cell_type": "code",
   "execution_count": 140,
   "metadata": {},
   "outputs": [
    {
     "name": "stdout",
     "output_type": "stream",
     "text": [
      "[0, 1]\n",
      "[2, 3, 4, 5]\n"
     ]
    }
   ],
   "source": [
    "# slicing\n",
    "\n",
    "x = [0,1,2,3,4,5]\n",
    "\n",
    "print(x[:2])\n",
    "print(x[2:])"
   ]
  },
  {
   "cell_type": "code",
   "execution_count": 141,
   "metadata": {},
   "outputs": [
    {
     "name": "stdout",
     "output_type": "stream",
     "text": [
      "[1, 2, 4]\n"
     ]
    }
   ],
   "source": [
    "# references\n",
    "\n",
    "x = [1,2,3]\n",
    "\n",
    "y = x\n",
    "y[-1] = 4 # same as y[2] = 4. In case y[-1], the index refrences the last element of the list\n",
    "print(x)"
   ]
  },
  {
   "cell_type": "code",
   "execution_count": 142,
   "metadata": {},
   "outputs": [
    {
     "name": "stdout",
     "output_type": "stream",
     "text": [
      "x - should be the original list:  [1, 2, 3]\n",
      "y - should be the modified list:  [1, 2, 4]\n"
     ]
    }
   ],
   "source": [
    "# Making a copy of x and naming it y using the slicing notation such that modifying y won't affect x\n",
    "\n",
    "x = [1, 2, 3]\n",
    "\n",
    "# Now modifying y won't affect x\n",
    "y = x[:]\n",
    "\n",
    "# Using the 'copy' module instead of slicing\n",
    "# import copy\n",
    "# y = copy.copy(x)\n",
    "\n",
    "y[-1] = 4\n",
    "\n",
    "print('x - should be the original list: ', x)\n",
    "print('y - should be the modified list: ', y)"
   ]
  },
  {
   "cell_type": "code",
   "execution_count": 143,
   "metadata": {},
   "outputs": [
    {
     "name": "stdout",
     "output_type": "stream",
     "text": [
      "0\n",
      "1\n"
     ]
    }
   ],
   "source": [
    "# loops - break\n",
    "\n",
    "# The operation 'break', breaks/ends the iteration in process\n",
    "\n",
    "for i in range (5):\n",
    "    if i >= 2: break\n",
    "    print(i)"
   ]
  },
  {
   "cell_type": "code",
   "execution_count": 144,
   "metadata": {},
   "outputs": [
    {
     "name": "stdout",
     "output_type": "stream",
     "text": [
      "0\n",
      "1\n",
      "3\n",
      "4\n"
     ]
    }
   ],
   "source": [
    "# loops - continue\n",
    "\n",
    "# The 'continue' statement is the opposite of 'break'\n",
    "# Skips the iteration if the variable i is 'x' (in this case 2), but continues with the next iteration\n",
    "\n",
    "for i in range (5):\n",
    "    if i == 2: continue\n",
    "    print(i)"
   ]
  },
  {
   "cell_type": "code",
   "execution_count": 145,
   "metadata": {},
   "outputs": [
    {
     "name": "stdout",
     "output_type": "stream",
     "text": [
      "just right\n"
     ]
    }
   ],
   "source": [
    "# conditionals\n",
    "\n",
    "x = 3\n",
    "\n",
    "if x > 3:\n",
    "    print('too big')\n",
    "elif x < 1:\n",
    "    print('too small')\n",
    "else:\n",
    "    print('just right')"
   ]
  },
  {
   "cell_type": "code",
   "execution_count": 146,
   "metadata": {},
   "outputs": [
    {
     "name": "stdout",
     "output_type": "stream",
     "text": [
      "2\n",
      "2\n",
      "3\n",
      "2\n"
     ]
    }
   ],
   "source": [
    "# functions and scope\n",
    "\n",
    "a = 1\n",
    "\n",
    "def f(x):\n",
    "    return x + a # a is global variable\n",
    "def g(x,a=1):\n",
    "    return x + a # a is local variable\n",
    "print(f(1))\n",
    "print(g(1))\n",
    "a = 2\n",
    "print(f(1))\n",
    "print(g(1))"
   ]
  },
  {
   "cell_type": "code",
   "execution_count": 147,
   "metadata": {},
   "outputs": [
    {
     "name": "stdout",
     "output_type": "stream",
     "text": [
      "Not accounting for rounding error:  False\n",
      "Accounting for rounding error:  True\n",
      "True\n",
      "True\n",
      "True\n",
      "True\n",
      "True\n"
     ]
    }
   ],
   "source": [
    "# floating points\n",
    "\n",
    "import numpy as np\n",
    "\n",
    "# Floating-point precision issues - floating-point numbers in computers are represented in binary, \n",
    "# and some decimal numbers cannot be precisely represented in the binary system/base 2 floating-point\n",
    "print('Not accounting for rounding error: ', 0.1 + 0.2 == 0.3)   \n",
    "# print(0.1 - 0.3 == 0.2) \n",
    "\n",
    "# Whenever this is a problem, test whether or not the statement is true by testing against some small epsilon:\n",
    "epsilon = 1e-10\n",
    "result = abs(0.1 + 0.2 - 0.3) < epsilon\n",
    "print('Accounting for rounding error: ',result)\n",
    "\n",
    "print(0.5 + 0.5 == 1.0)\n",
    "print(np.isclose (0.1+0.2 ,0.3))\n",
    "print(np.isclose(1e-200 * 1e200 * 1e200 * 1e-200, 1.0))\n",
    "print(np.isinf(1e-200 * (1e200 * 1e200) * 1e-200)) # Test element-wise for positive or negative infinity\n",
    "print(np.isclose(1e200 * (1e-200 * 1e-200) * 1e200, 0.0))"
   ]
  },
  {
   "cell_type": "code",
   "execution_count": 148,
   "metadata": {},
   "outputs": [
    {
     "name": "stdout",
     "output_type": "stream",
     "text": [
      "x: [4 5 6]\n",
      "y: [3 4 5]\n"
     ]
    }
   ],
   "source": [
    "# numpy\n",
    "\n",
    "# A numpy array is a grid of values, all of the same type, and is indexed by a tuple of nonnegative integers\n",
    "\n",
    "import numpy as np\n",
    "\n",
    "x = np.array([1,2,3])\n",
    "\n",
    "# refrences the same data as x - not just a copy\n",
    "y = x    \n",
    "\n",
    "# modifies existing array x by adding 1 to each element (in-place operation)\n",
    "x += 1    \n",
    "\n",
    "# modifies the existing array x and updates each element of the array x by adding 1 to each current element (in-place operation)\n",
    "x[:] = x + 1\n",
    "\n",
    "# creates new array by adding 1 to each element in the original array\n",
    "# this operation does not affect the array that y is referencing\n",
    "# adds 1 to each element of the array x, creating a new array and assigning it to the variable x \n",
    "# this operation doesn't affect the array y because y still points to the original array. After this operation, x becomes [4, 5, 6]\n",
    "x = x + 1    \n",
    "\n",
    "print('x:', x)\n",
    "print('y:', y)\n",
    "\n",
    "# An in-place operation modifies the existing data structure directly, with- \n",
    "# out creating a new one. The changes occur within the same memory location, \n",
    "# and any variables referencing the structure reflect the modifications"
   ]
  },
  {
   "cell_type": "code",
   "execution_count": 149,
   "metadata": {},
   "outputs": [
    {
     "name": "stdout",
     "output_type": "stream",
     "text": [
      "Size: 4\n",
      "Diagonal: 2.8284271247461903\n",
      "Name: Alice\n"
     ]
    }
   ],
   "source": [
    "# classes\n",
    "\n",
    "# Classes are user-defined types/data type. Just like a list or a string is a type, classes are special kinds of types\n",
    "\n",
    "# A class can be viewed as an advanced \"container\" that contains both data (attributes) and functions specific to the class (methods)\n",
    "# The specific data in a class originates from creating an instance of the class, for example: square = SquareClass(2,2,'Bob')  \n",
    "# Classes is a kind of \"template\" used to create objects\n",
    "\n",
    "# Objects get their variables and functions from classes and can be view as an encapsulation of variables and functions into one \"entity\"\n",
    "# As such, it is smart to think of a class as a type, with the objects being a \"variable\"/instance of that type/class\n",
    "\n",
    "class SquareClass:\n",
    "    # the __init__() function is called when the class is being initiated\n",
    "    # It is used for assigning values in a class, i.e. contains data\n",
    "    def __init__(self ,length ,width, name):\n",
    "        self.length = length # attribute\n",
    "        self.width = width # attribute\n",
    "        self.name = name # attribute\n",
    "\n",
    "    def size(self): # method\n",
    "        return self.length * self.width # calculates the size of a square\n",
    "    \n",
    "    def diagonal(self): # method\n",
    "        return np.sqrt(self.length**2 + self.width**2) # calculates the diagonaln of any square/rectangle\n",
    "\n",
    "# Creates an instance of the SquareClass object called \"square\"\n",
    "# The variable \"square\" holds an object of the class SquareClass that contains the variable and the function defined within that class\n",
    "square = SquareClass(2,2,'Bob') \n",
    "rectangle = SquareClass(4,8,'Alice')\n",
    "\n",
    "print('Size:', square.size())\n",
    "print('Diagonal:', square.diagonal())\n",
    "print('Name:', rectangle.name)\n"
   ]
  }
 ],
 "metadata": {
  "kernelspec": {
   "display_name": "Python 3",
   "language": "python",
   "name": "python3"
  },
  "language_info": {
   "codemirror_mode": {
    "name": "ipython",
    "version": 3
   },
   "file_extension": ".py",
   "mimetype": "text/x-python",
   "name": "python",
   "nbconvert_exporter": "python",
   "pygments_lexer": "ipython3",
   "version": "3.11.5"
  }
 },
 "nbformat": 4,
 "nbformat_minor": 2
}
