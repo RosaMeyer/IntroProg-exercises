{
 "cells": [
  {
   "cell_type": "markdown",
   "metadata": {},
   "source": [
    "# **Functions**"
   ]
  },
  {
   "cell_type": "markdown",
   "metadata": {},
   "source": [
    "Whenever we need to perform the **same operation multiple times**, we typically use functions:\n",
    "- A function is a block of code which only runs when called\n",
    "- A function performs a specific task and can easily be reused/repeated\n",
    "- A function takes inputs, performs an operation, and returns an output\n",
    "\n",
    "(Exercise_1 - powerpoint)\n"
   ]
  },
  {
   "cell_type": "code",
   "execution_count": 118,
   "metadata": {},
   "outputs": [
    {
     "name": "stdout",
     "output_type": "stream",
     "text": [
      "Hello from a function\n"
     ]
    }
   ],
   "source": [
    "# Creating and calling a function\n",
    "\n",
    "def my_function():\n",
    "    print(\"Hello from a function\")\n",
    "\n",
    "my_function()"
   ]
  },
  {
   "cell_type": "code",
   "execution_count": 119,
   "metadata": {},
   "outputs": [
    {
     "name": "stdout",
     "output_type": "stream",
     "text": [
      "The contry is: Denmark\n",
      "The contry is: Senegal\n",
      "The contry is: China\n"
     ]
    }
   ],
   "source": [
    "# Arguments\n",
    "\n",
    "def my_function(country):\n",
    "    print(\"The contry is:\", country)\n",
    "\n",
    "my_function(\"Denmark\")\n",
    "my_function(\"Senegal\")\n",
    "my_function(\"China\")"
   ]
  },
  {
   "cell_type": "code",
   "execution_count": 120,
   "metadata": {},
   "outputs": [
    {
     "name": "stdout",
     "output_type": "stream",
     "text": [
      "03.10.05-5690\n",
      "03.10.05-0192\n",
      "03.10.05-9913\n"
     ]
    }
   ],
   "source": [
    "def my_function(cpr_nr):\n",
    "    print(\"03.10.05-\" + cpr_nr)\n",
    "\n",
    "my_function(\"5690\")\n",
    "my_function(\"0192\")\n",
    "my_function(\"9913\")"
   ]
  },
  {
   "cell_type": "code",
   "execution_count": 121,
   "metadata": {},
   "outputs": [
    {
     "name": "stdout",
     "output_type": "stream",
     "text": [
      "010312-9834\n",
      "Born in wrong year\n",
      "Born in wrong year\n"
     ]
    }
   ],
   "source": [
    "# Multiple arguments\n",
    "\n",
    "def my_function(b_year,cpr_nr):\n",
    "    if b_year == 2012 and cpr_nr[4] == \"1\" and cpr_nr[5] == \"2\":\n",
    "        print(cpr_nr)\n",
    "    else:\n",
    "        print(\"Born in wrong year\")\n",
    "\n",
    "my_function(2012, \"010312-9834\")\n",
    "my_function(1998, \"010398-0103\")\n",
    "my_function(2012, \"010101-7337\")"
   ]
  },
  {
   "cell_type": "code",
   "execution_count": 122,
   "metadata": {},
   "outputs": [
    {
     "name": "stdout",
     "output_type": "stream",
     "text": [
      "Rosa Meyer\n"
     ]
    }
   ],
   "source": [
    "def my_function(f_name, l_name):\n",
    "    print(f_name + \" \" + l_name)\n",
    "\n",
    "my_function(\"Rosa\", \"Meyer\")"
   ]
  },
  {
   "cell_type": "code",
   "execution_count": 123,
   "metadata": {},
   "outputs": [
    {
     "name": "stdout",
     "output_type": "stream",
     "text": [
      "I am from Sweden\n",
      "I am from India\n",
      "I am from Norway\n",
      "I am from Brazil\n"
     ]
    }
   ],
   "source": [
    "# Default Parameter Value\n",
    "\n",
    "def my_function(country = \"Norway\"):\n",
    "    print(\"I am from \" + country)\n",
    "\n",
    "my_function(\"Sweden\")\n",
    "my_function(\"India\")\n",
    "my_function()\n",
    "my_function(\"Brazil\")"
   ]
  },
  {
   "cell_type": "code",
   "execution_count": 124,
   "metadata": {},
   "outputs": [
    {
     "name": "stdout",
     "output_type": "stream",
     "text": [
      "apple\n",
      "banana\n",
      "cherry\n"
     ]
    }
   ],
   "source": [
    "# Parsing a list as an argument \n",
    "\n",
    "fruits = [\"apple\", \"banana\", \"cherry\"]\n",
    "\n",
    "def my_function(food):\n",
    "    for x in food:\n",
    "      print(x)\n",
    "\n",
    "my_function(fruits)"
   ]
  },
  {
   "cell_type": "code",
   "execution_count": 125,
   "metadata": {},
   "outputs": [
    {
     "name": "stdout",
     "output_type": "stream",
     "text": [
      "2\n",
      "10\n",
      "20\n"
     ]
    }
   ],
   "source": [
    "def my_function(x):\n",
    "    return 2 * x\n",
    "\n",
    "print(my_function(1))\n",
    "print(my_function(5))\n",
    "print(my_function(10))"
   ]
  },
  {
   "cell_type": "code",
   "execution_count": 126,
   "metadata": {},
   "outputs": [
    {
     "name": "stdout",
     "output_type": "stream",
     "text": [
      "2000\n"
     ]
    }
   ],
   "source": [
    "# Local scope\n",
    "def my_func():\n",
    "    x = 2000\n",
    "    print(x)\n",
    "\n",
    "my_func()\n",
    "# print(x) – will give you an error as x can only be accessed within the function\n"
   ]
  },
  {
   "cell_type": "code",
   "execution_count": 127,
   "metadata": {},
   "outputs": [
    {
     "name": "stdout",
     "output_type": "stream",
     "text": [
      "600\n",
      "300\n"
     ]
    }
   ],
   "source": [
    "# Global scope - can be accessed both from within the function and outside the function\n",
    "\n",
    "x = 300\n",
    "\n",
    "def my_func():\n",
    "    print(x*2)\n",
    "\n",
    "my_func()\n",
    "\n",
    "print(x)"
   ]
  },
  {
   "cell_type": "markdown",
   "metadata": {},
   "source": [
    "# **Classes**"
   ]
  },
  {
   "cell_type": "markdown",
   "metadata": {},
   "source": [
    "Think of classes as user-defined types:\n",
    "- A class can be viewed as an advanced \"container\" that contains both data (attributes) and functions specific to the class (methods)\n",
    "- The specific data in a class originates from creating an instance of the class – an object/variable\n",
    "- Objects get their variables and functions from classes and can be view as an encapsulation of variables and functions into one \"entity”\n",
    "\n",
    "As such, we can now create our own types of variables using classes:\n",
    "- We can choose and define which **attributes** and **methods** our class has\n",
    "- Using classes when coding keeps everything manageable and nicely structured \n",
    "\n",
    "(Exercise_1 - powerpoint)\n",
    "\n"
   ]
  },
  {
   "cell_type": "code",
   "execution_count": 128,
   "metadata": {},
   "outputs": [
    {
     "name": "stdout",
     "output_type": "stream",
     "text": [
      "5\n"
     ]
    }
   ],
   "source": [
    "# Not really useful in real life applications\n",
    "\n",
    "class My_class:\n",
    "    x = 5\n",
    "\n",
    "object = My_class()\n",
    "\n",
    "print(object.x)"
   ]
  },
  {
   "cell_type": "code",
   "execution_count": 129,
   "metadata": {},
   "outputs": [
    {
     "name": "stdout",
     "output_type": "stream",
     "text": [
      "Alice\n",
      "age: 25 – weight: 60\n"
     ]
    }
   ],
   "source": [
    "# The __init__() function\n",
    "\n",
    "# __init__() is a build in function which all classes has and which is executed whenever the class in initiated \n",
    "\n",
    "# The __init__() is used to assign values to object properties (attributes)\n",
    "\n",
    "class Human:\n",
    "    def __init__(self, name, age, weight):\n",
    "        self.name = name\n",
    "        self.age = age\n",
    "        self.weight = weight\n",
    "\n",
    "h0 = Human(\"Alice\", 25, 60)\n",
    "\n",
    "print(h0.name)\n",
    "print(\"age:\", h0.age, \"– weight:\", h0.weight)"
   ]
  },
  {
   "cell_type": "code",
   "execution_count": 130,
   "metadata": {},
   "outputs": [
    {
     "name": "stdout",
     "output_type": "stream",
     "text": [
      "Hello, my name is Bob\n"
     ]
    }
   ],
   "source": [
    "# Class methods (functions)\n",
    "\n",
    "class Human:\n",
    "    def __init__(self, name, age, weight):\n",
    "        self.name = name\n",
    "        self.age = age\n",
    "        self.weight = weight\n",
    "    \n",
    "    def hello(self):\n",
    "        print(\"Hello, my name is \" + self.name)\n",
    "\n",
    "h1 = Human(\"Bob\", 30, 70)\n",
    "\n",
    "h1.hello()\n"
   ]
  },
  {
   "cell_type": "code",
   "execution_count": 131,
   "metadata": {},
   "outputs": [
    {
     "name": "stdout",
     "output_type": "stream",
     "text": [
      "Hello, my name is Louis\n"
     ]
    }
   ],
   "source": [
    "# Note: the \"self parameter\" is a reference to the current instance of the class, and is used to access variables that belongs to the class\n",
    "# It does not have to be named \"self\", but it has to be the first parameter of any function in the class:\n",
    "\n",
    "class Human:\n",
    "    def __init__(some_name, name, age, weight):\n",
    "        some_name.name = name\n",
    "        some_name.age = age\n",
    "        some_name.weight = weight\n",
    "    \n",
    "    def hello(abc):\n",
    "        print(\"Hello, my name is \" + abc.name)\n",
    "\n",
    "h2 = Human(\"Louis\", 10, 25)\n",
    "\n",
    "h2.hello()"
   ]
  },
  {
   "cell_type": "code",
   "execution_count": 132,
   "metadata": {},
   "outputs": [],
   "source": [
    "# Minor detail for printing\n",
    "\n",
    "# class Human:\n",
    "#     def __init__(self, name, age, weight):\n",
    "#         self.name = name\n",
    "#         self.age = age\n",
    "#         self.weight = weight\n",
    "#     \n",
    "#     def hello(self):\n",
    "#         return \"Hello, my name is \" + self.name\n",
    "# \n",
    "# h3 = Human(\"Rebecca\", 70, 50)\n",
    "#\n",
    "# print(h1.hello())\n"
   ]
  },
  {
   "cell_type": "code",
   "execution_count": 133,
   "metadata": {},
   "outputs": [
    {
     "name": "stdout",
     "output_type": "stream",
     "text": [
      "name: Alice – age: 25 – weight: 60\n",
      "name: Bob   – age: 30 – weight: 70\n",
      "name: Louis – age: 10 – weight: 25\n"
     ]
    }
   ],
   "source": [
    "# Print of current objecst\n",
    "\n",
    "print(\"name:\", h0.name, \"– age:\", h0.age, \"– weight:\", h0.weight)\n",
    "\n",
    "print(\"name:\", h1.name, \"  – age:\", h1.age, \"– weight:\", h1.weight)\n",
    "\n",
    "print(\"name:\", h2.name, \"– age:\", h2.age, \"– weight:\", h2.weight)"
   ]
  },
  {
   "cell_type": "code",
   "execution_count": 134,
   "metadata": {},
   "outputs": [],
   "source": [
    "# Modifying objects (modifying object properties)\n",
    "\n",
    "h2.age = 11"
   ]
  },
  {
   "cell_type": "code",
   "execution_count": 135,
   "metadata": {},
   "outputs": [
    {
     "name": "stdout",
     "output_type": "stream",
     "text": [
      "name: Louis – age: 11 – weight: 25\n"
     ]
    }
   ],
   "source": [
    "print(\"name:\", h2.name, \"– age:\", h2.age, \"– weight:\", h2.weight)"
   ]
  },
  {
   "cell_type": "code",
   "execution_count": 136,
   "metadata": {},
   "outputs": [],
   "source": [
    "# Delete properties of an object\n",
    "\n",
    "del h2.age"
   ]
  },
  {
   "cell_type": "code",
   "execution_count": 137,
   "metadata": {},
   "outputs": [
    {
     "ename": "AttributeError",
     "evalue": "'Human' object has no attribute 'age'",
     "output_type": "error",
     "traceback": [
      "\u001b[0;31m---------------------------------------------------------------------------\u001b[0m",
      "\u001b[0;31mAttributeError\u001b[0m                            Traceback (most recent call last)",
      "Cell \u001b[0;32mIn[137], line 1\u001b[0m\n\u001b[0;32m----> 1\u001b[0m \u001b[38;5;28mprint\u001b[39m(\u001b[38;5;124m\"\u001b[39m\u001b[38;5;124mname:\u001b[39m\u001b[38;5;124m\"\u001b[39m, h2\u001b[38;5;241m.\u001b[39mname, \u001b[38;5;124m\"\u001b[39m\u001b[38;5;124m– age:\u001b[39m\u001b[38;5;124m\"\u001b[39m, h2\u001b[38;5;241m.\u001b[39mage, \u001b[38;5;124m\"\u001b[39m\u001b[38;5;124m– weight:\u001b[39m\u001b[38;5;124m\"\u001b[39m, h2\u001b[38;5;241m.\u001b[39mweight)\n",
      "\u001b[0;31mAttributeError\u001b[0m: 'Human' object has no attribute 'age'"
     ]
    }
   ],
   "source": [
    "print(\"name:\", h2.name, \"– age:\", h2.age, \"– weight:\", h2.weight)"
   ]
  },
  {
   "cell_type": "code",
   "execution_count": null,
   "metadata": {},
   "outputs": [],
   "source": [
    "# Delete object\n",
    "\n",
    "del h2"
   ]
  },
  {
   "cell_type": "code",
   "execution_count": null,
   "metadata": {},
   "outputs": [
    {
     "ename": "NameError",
     "evalue": "name 'h2' is not defined",
     "output_type": "error",
     "traceback": [
      "\u001b[0;31m---------------------------------------------------------------------------\u001b[0m",
      "\u001b[0;31mNameError\u001b[0m                                 Traceback (most recent call last)",
      "Cell \u001b[0;32mIn[117], line 1\u001b[0m\n\u001b[0;32m----> 1\u001b[0m \u001b[38;5;28mprint\u001b[39m(\u001b[38;5;124m\"\u001b[39m\u001b[38;5;124mname:\u001b[39m\u001b[38;5;124m\"\u001b[39m, h2\u001b[38;5;241m.\u001b[39mname, \u001b[38;5;124m\"\u001b[39m\u001b[38;5;124m– age:\u001b[39m\u001b[38;5;124m\"\u001b[39m, h2\u001b[38;5;241m.\u001b[39mage, \u001b[38;5;124m\"\u001b[39m\u001b[38;5;124m– weight:\u001b[39m\u001b[38;5;124m\"\u001b[39m, h2\u001b[38;5;241m.\u001b[39mweight)\n",
      "\u001b[0;31mNameError\u001b[0m: name 'h2' is not defined"
     ]
    }
   ],
   "source": [
    "print(\"name:\", h2.name, \"– age:\", h2.age, \"– weight:\", h2.weight)"
   ]
  }
 ],
 "metadata": {
  "kernelspec": {
   "display_name": "base",
   "language": "python",
   "name": "python3"
  },
  "language_info": {
   "codemirror_mode": {
    "name": "ipython",
    "version": 3
   },
   "file_extension": ".py",
   "mimetype": "text/x-python",
   "name": "python",
   "nbconvert_exporter": "python",
   "pygments_lexer": "ipython3",
   "version": "3.11.5"
  }
 },
 "nbformat": 4,
 "nbformat_minor": 2
}
