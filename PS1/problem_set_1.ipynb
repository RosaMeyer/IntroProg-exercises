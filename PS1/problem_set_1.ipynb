{
 "cells": [
  {
   "cell_type": "markdown",
   "metadata": {},
   "source": [
    "# Problem set 1: Solving the consumer problem"
   ]
  },
  {
   "cell_type": "markdown",
   "metadata": {},
   "source": [
    "In this first problem set, we will take a look at solving the canonical utility maximization problem for the consumer.  "
   ]
  },
  {
   "cell_type": "markdown",
   "metadata": {},
   "source": [
    "**Problem set structure:** \n",
    "* Each problem set consists of tasks and problems. _Tasks_ train you in using specific techniques, while _problems_ train you in solving actual economic problems. \n",
    "* Each problem set also contains solutions, which can be found in separate Python files.\n",
    "* The Python files `A[..].py` do not run out of the box. But you can copy the code into your notebook or user module. \n",
    "* *You should really try to solve the tasks and problems on your own before looking at the answers!* \n",
    "* You goal should, however, not be to write everything from scratch. \n",
    "* Finding similar code from the lectures and adjusting it is completely ok. I rarely begin  completely from scratch, I figure out when I last did something similar and copy in the code to begin with. A quick peak at the solution, and then trying to write the solution yourself is also a very beneficial approach."
   ]
  },
  {
   "cell_type": "markdown",
   "metadata": {},
   "source": [
    "**Multiple solutions:** Within the field of numerical analysis there is often many more than one way of solving a specific problem. So the solution provided is just one example. If you get the same result, but use another approach, that might be just as good (or even better)."
   ]
  },
  {
   "cell_type": "markdown",
   "metadata": {},
   "source": [
    "**Extra problems:** Solutions to the extra problems are not provided, but we encourage you to take a look at them if you have the time."
   ]
  },
  {
   "cell_type": "markdown",
   "metadata": {},
   "source": [
    "# Tasks"
   ]
  },
  {
   "cell_type": "markdown",
   "metadata": {},
   "source": [
    "## functions"
   ]
  },
  {
   "cell_type": "markdown",
   "metadata": {},
   "source": [
    "Implement a Python version of this function:"
   ]
  },
  {
   "cell_type": "markdown",
   "metadata": {},
   "source": [
    "$$ \n",
    "u(x_1,x_2) = (\\alpha x_1^{-\\beta} + (1-\\alpha) x_2^{-\\beta})^{-1/\\beta} \n",
    "$$"
   ]
  },
  {
   "cell_type": "code",
   "execution_count": 27,
   "metadata": {},
   "outputs": [],
   "source": [
    "# In the solution there is default parameter values for alpha and beta which is needed later for printing out a table\n",
    "\n",
    "# It does not really make sense to define alpha and beta as variables within the function (local scope)\n",
    "# Firstly, because it wouldn't be necessary to include alpha and beta in as parameters in the fundtion\n",
    "# Secondly, because you wouldn't have the chance to overwrite it later\n",
    "# alpha = 0.5\n",
    "# beta = 1\n",
    "\n",
    "def u(x1,x2,alpha,beta):   # u(x1,x2,alpha=0.5,beta=1):\n",
    "    return (alpha*x1**(-beta) + (1-alpha)*x2**(-beta))**(-1/beta)\n",
    "\n",
    "# alpha and beta set in A2"
   ]
  },
  {
   "cell_type": "markdown",
   "metadata": {},
   "source": [
    "**Answer:** see A1.py"
   ]
  },
  {
   "cell_type": "markdown",
   "metadata": {},
   "source": [
    "## print"
   ]
  },
  {
   "cell_type": "code",
   "execution_count": 28,
   "metadata": {},
   "outputs": [],
   "source": [
    "x1_vec = [1.05,1.3,2.3,2.5,3.1]\n",
    "x2_vec = [1.05,1.3,2.3,2.5,3.1]"
   ]
  },
  {
   "cell_type": "markdown",
   "metadata": {},
   "source": [
    "Construct a Python function `print_table(x1_vec,x2_vec)` to print values of `u(x1,x2)` in the table form shown below."
   ]
  },
  {
   "cell_type": "code",
   "execution_count": 48,
   "metadata": {},
   "outputs": [
    {
     "name": "stdout",
     "output_type": "stream",
     "text": [
      "        0     1     2     3     4\n",
      "  0  1.050 1.162 1.442 1.479 1.569\n",
      "  1  1.162 1.300 1.661 1.711 1.832\n",
      "  2  1.442 1.661 2.300 2.396 2.641\n",
      "  3  1.479 1.711 2.396 2.500 2.768\n",
      "  4  1.569 1.832 2.641 2.768 3.100\n"
     ]
    }
   ],
   "source": [
    "# Define variables alpha and beta (if alpha and beta wasn't default parameter values in task A1)\n",
    "\n",
    "alpha = 0.5\n",
    "beta = 1\n",
    "\n",
    "def print_table(x1_vec,x2_vec):\n",
    "    \n",
    "    # a. empty text\n",
    "    # initializes an empty string that will be used to accumulate the text for the table\n",
    "    text = ''                               \n",
    "    \n",
    "    # b. top header\n",
    "    text += f'{\"\":3s}'   # essentially adds three empty spaces to the beginning of the text in the top header\n",
    "    \n",
    "    # starts a loop that iterates over the elements in x2_vec along with their indices. The enumerate() method adds a counter \n",
    "    # and returns it in the form of an enumerating object: both the index (j) and the value (x2) from the vector\n",
    "    for j, x2 in enumerate(x2_vec):         \n",
    "       text += f'{j:6d}'   # ensures each index, j, is right-aligned with a width of 6\n",
    "    text += '\\n'           # line shift - moves the cursor to the next line, preparing for the body of the table\n",
    "    \n",
    "    # c. body\n",
    "    # responsible for creating the main body of the table and left header\n",
    "\n",
    "    # starts a loop that iterates over the elements in x1_vec along with their indices\n",
    "    for i, x1 in enumerate(x1_vec):         \n",
    "        if i > 0:                                  # conditional statement – ensures that each new row starts on a new line\n",
    "            text += '\\n'                           # line shift\n",
    "        text += f'{i:3d} '                         # left header – ensures that the left header is right-aligned with a width of 3\n",
    "        for j, x2 in enumerate(x2_vec):            # nested loop – iterates over the elements in x2_vec along with their indices\n",
    "            # If alpha and beta were set as parameter values in A1, it would not be necessary to add the parameters in the f-string below\n",
    "            text += f'{u(x1,x2,alpha,beta):6.3f}'  # calls the function u(x1, x2) to obtain a value, and then formats the result to a string with a width of 6 and precision of 3 decimal places using the format specifier ':6.3f'\n",
    "                                                   # the formatted value is added to the text-variable\n",
    "    # d. print\n",
    "    print(text)\n",
    "\n",
    "print_table(x1_vec,x2_vec)"
   ]
  },
  {
   "cell_type": "code",
   "execution_count": 50,
   "metadata": {},
   "outputs": [
    {
     "name": "stdout",
     "output_type": "stream",
     "text": [
      "        2\n",
      "  0  1.442\n",
      "  1  1.661\n",
      "  2  2.300\n",
      "  3  2.396\n",
      "  4  2.641\n"
     ]
    }
   ],
   "source": [
    "# How to only print the column of some element in x2_vector from the following code?\n",
    "\n",
    "def print_table(x1_vec, x2_vec, index_no):\n",
    "    # a. empty text\n",
    "    text = ''  # initializes an empty string called text that will be used to accumulate the text for the table\n",
    "\n",
    "    # b. top header\n",
    "    text += f'{\"\":3s}'\n",
    "    for j, x2 in enumerate(x2_vec):\n",
    "        if j == index_no:   # Added this line and \n",
    "            text += f'{j:6d}'\n",
    "    text += '\\n'   # line shift\n",
    "\n",
    "    # c. body\n",
    "    # responsible for creating the main body of the table\n",
    "    for i, x1 in enumerate(x1_vec):\n",
    "        if i > 0:\n",
    "            text += '\\n'    # line shift\n",
    "        text += f'{i:3d} '  # left header\n",
    "\n",
    "        # Only print the 3rd column in x2_vec\n",
    "        j = index_no\n",
    "        x2 = x2_vec[j]\n",
    "        text += f'{u(x1, x2, alpha, beta):6.3f}'\n",
    "\n",
    "    # d. printing\n",
    "    print(text)\n",
    "\n",
    "print_table(x1_vec, x2_vec, 2)"
   ]
  },
  {
   "cell_type": "markdown",
   "metadata": {},
   "source": [
    "**Answer:** see A2.py"
   ]
  },
  {
   "cell_type": "markdown",
   "metadata": {},
   "source": [
    "## matplotlib"
   ]
  },
  {
   "cell_type": "markdown",
   "metadata": {},
   "source": [
    "Reproduce the figure below of $u(x_1,x_2)$ using the `meshgrid` function from _numpy_ and the `plot_surface` function from _matplotlib_. "
   ]
  },
  {
   "cell_type": "code",
   "execution_count": 31,
   "metadata": {},
   "outputs": [],
   "source": [
    "# import plot modules\n",
    "import numpy as np\n",
    "%matplotlib inline\n",
    "import matplotlib.pyplot as plt\n",
    "# plt.style.use('seaborn-whitegrid') – the 'seaborn-whitegrid' style didn't work for me, to check which styles you have run: print(plt.style.available)\n",
    "# print(plt.style.available)\n",
    "plt.style.use('seaborn-v0_8-whitegrid')\n",
    "from mpl_toolkits.mplot3d import Axes3D\n",
    "from matplotlib import cm # for colormaps\n"
   ]
  },
  {
   "cell_type": "code",
   "execution_count": 32,
   "metadata": {},
   "outputs": [
    {
     "data": {
      "image/png": "[encoded data removed]",
      "text/plain": [
       "<Figure size 640x480 with 1 Axes>"
      ]
     },
     "metadata": {},
     "output_type": "display_data"
    }
   ],
   "source": [
    "# np.meshgrid(): creates a rectangular grid out of two given one-dimensional arrays (matrices)\n",
    "\n",
    "# evaluate utility function\n",
    "x1_grid,x2_grid = np.meshgrid(x1_vec,x2_vec,indexing='ij') # creates a 2d grid of coordinates for 1d vector x1_vec and x2_vec\n",
    "                                                           # indexing='ij' parameter specifies that the returned grid should have matrix indexing, where the first index refers to rows (i index corresponds to x1_grid) and the second index refers to columns (j index corresponds to x2_grid)\n",
    "u_grid = u(x1_grid,x2_grid,alpha=0.5,beta=1)               # the utility function is applied to every pair of coordinates in the 2d grid \n",
    "\n",
    "# a. plot\n",
    "fig = plt.figure()\n",
    "ax = fig.add_subplot(1,1,1,projection='3d')\n",
    "ax.plot_surface(x1_grid,x2_grid,u_grid,cmap=cm.jet)        # cmap=cm.jet specifies the color map to be used for the plot\n",
    "\n",
    "# b. add labels\n",
    "ax.set_xlabel('$x_1$')\n",
    "ax.set_ylabel('$x_2$')\n",
    "ax.set_zlabel('$utility,u$')\n",
    "\n",
    "# c. invert xaxis\n",
    "ax.invert_xaxis()\n",
    "\n",
    "ax.view_init(elev=20, azim=-20)\n",
    "# fig.tight_layout()"
   ]
  },
  {
   "cell_type": "markdown",
   "metadata": {},
   "source": [
    "**Answer:** see A3.py"
   ]
  },
  {
   "cell_type": "markdown",
   "metadata": {},
   "source": [
    "## optimize"
   ]
  },
  {
   "cell_type": "markdown",
   "metadata": {},
   "source": [
    "Consider the following minimization problem:\n",
    "\n",
    "$$\n",
    "\\min_x  f(x) = \\min_x \\sin(x) + 0.05 \\cdot x^2\n",
    "$$"
   ]
  },
  {
   "cell_type": "markdown",
   "metadata": {},
   "source": [
    "Solve this problem and illustrate your results."
   ]
  },
  {
   "cell_type": "code",
   "execution_count": 54,
   "metadata": {},
   "outputs": [
    {
     "name": "stdout",
     "output_type": "stream",
     "text": [
      "Best with the loop method is: -0.88366802 at x = -1.51515152\n",
      "Best with scipy.optimize is:  -0.88786283 at x = -1.42756250\n"
     ]
    },
    {
     "data": {
      "text/plain": [
       "<matplotlib.legend.Legend at 0x144cd7f10>"
      ]
     },
     "execution_count": 54,
     "metadata": {},
     "output_type": "execute_result"
    },
    {
     "data": {
      "image/png": "[encoded data removed]",
      "text/plain": [
       "<Figure size 640x480 with 1 Axes>"
      ]
     },
     "metadata": {},
     "output_type": "display_data"
    }
   ],
   "source": [
    "import numpy as np\n",
    "\n",
    "# a. define function\n",
    "def f(x):\n",
    "    return np.sin(x)+0.05*x**2 \n",
    "\n",
    "# b. solution using a loop\n",
    "N = 100\n",
    "x_vec = np.linspace(-10,10,N) # returns N evenly spaced samples, calculated over the interval [start, stop]=[-10,10]\n",
    "f_vec = np.empty(N)\n",
    "\n",
    "f_best = np.inf # initial maximum - floating point representation of positive infinity\n",
    "x_best = np.nan # not-a-number\n",
    "\n",
    "for i,x in enumerate(x_vec): # iterates over each index 'i' and corresponding 'x' value in the array x_vec\n",
    "    f_now = f_vec[i] = f(x)  # calculates the function value for the current x and assigns it to f_now - also stored in the f_vec array at the corresponding index i\n",
    "    if f_now < f_best:       # checks if current function value (f_now) is smaller than the current best function value (f_best)\n",
    "        x_best = x           # if true, updates x_best to the current x value\n",
    "        f_best = f_now       # updates f_best to the current function value (f_now)\n",
    "\n",
    "# c. solution using scipy optmize\n",
    "from scipy import optimize\n",
    "x_guess = [0]      \n",
    "# missing line, hint: objective_function = lambda x: ?\n",
    "# missing line, hint: res = optimize.minimize(?)\n",
    "# x_best_scipy = res.x[0]\n",
    "# f_best_scipy = res.fun   \n",
    "objective_function = lambda x: f(x[0]) # takes a single argument x and returns the result of calling the function f() with the first element (x[0]) of the input x\n",
    "# if you prefer to write \"standard\" functions instead of lambda functions, simply write:\n",
    "# def objective_function(x):\n",
    "#     return f(x[0])\n",
    "res = optimize.minimize(objective_function, x_guess, method='Nelder-Mead')\n",
    "x_best_scipy = res.x[0] # accesses the optimized value of x (the first element) from the result\n",
    "f_best_scipy = res.fun  # accesses the value of the objective function at the minimum\n",
    "                        # fun is a calleble parameter from scipy.optimize.minimize\n",
    "# d. print\n",
    "print(f'Best with the loop method is: {f_best:.8f} at x = {x_best:.8f}')\n",
    "print(f'Best with scipy.optimize is:  {f_best_scipy:.8f} at x = {x_best_scipy:.8f}')\n",
    "# print('Best with the loop method is:',f_best,'at x=',x_best)\n",
    "\n",
    "# e. figure\n",
    "import matplotlib.pyplot as plt\n",
    "fig = plt.figure() # dpi = dots-per-inch (resolution)\n",
    "ax = fig.add_subplot(1,1,1)\n",
    "\n",
    "ax.plot(x_vec,f_vec,ls='--',lw=1,color='black',label='$f(x)$')\n",
    "ax.plot(x_best,f_best,ls='',marker='s',color='blue',label='loop')\n",
    "ax.plot(x_best_scipy,f_best_scipy,ls='',marker='o',\n",
    "        markersize=10,markerfacecolor='none',\n",
    "        markeredgecolor='red',label='scipy.optimize')\n",
    "\n",
    "ax.set_xlabel('$x$')\n",
    "ax.set_ylabel('$f$')\n",
    "ax.grid(True) # not strictly necessary\n",
    "ax.legend(loc='upper center') # parameter in ax.legend() is not necessary - specifies where the legends are placed"
   ]
  },
  {
   "cell_type": "markdown",
   "metadata": {},
   "source": [
    "**Answer:** see A4.py"
   ]
  },
  {
   "cell_type": "markdown",
   "metadata": {},
   "source": [
    "# Problem"
   ]
  },
  {
   "cell_type": "markdown",
   "metadata": {},
   "source": [
    "Consider the following $M$-good, $x=(x_1,x_2,\\dots,x_M)$, **utility maximization problem** with exogenous income $I$, and price-vector $p=(p_1,p_2,\\dots,p_M)$,\n",
    "\n",
    "$$\n",
    "\\begin{aligned}\n",
    "V(p_{1},p_{2},\\dots,,p_{M},I) & = \\max_{x_{1},x_{2},\\dots,x_M} x_{1}^{\\alpha_1} x_{2}^{\\alpha_2} \\dots x_{M}^{\\alpha_M} \\\\\n",
    " & \\text{s.t.}\\\\\n",
    "E & = \\sum_{i=1}^{M}p_{i}x_{i} \\leq I,\\,\\,\\,p_{1},p_{2},\\dots,p_M,I>0\\\\\n",
    "x_{1},x_{2},\\dots,x_M & \\geq 0\n",
    "\\end{aligned}\n",
    "$$"
   ]
  },
  {
   "cell_type": "markdown",
   "metadata": {},
   "source": [
    "**Problem:** Solve the 5-good utility maximization problem for arbitrary preference parameters, $ \\alpha = (\\alpha_1,\\alpha_2,\\dots,\\alpha_5)$, prices and income. First, with a loop, and then with a numerical optimizer."
   ]
  },
  {
   "cell_type": "markdown",
   "metadata": {},
   "source": [
    "You can use the following functions:"
   ]
  },
  {
   "cell_type": "code",
   "execution_count": 55,
   "metadata": {},
   "outputs": [],
   "source": [
    "def utility_function(x, alpha):\n",
    "    # ensure you understand what this function is doing\n",
    "\n",
    "    u = 1 # the value that gets multiplied and accumulated in the loop\n",
    "    for x_now, alpha_now in zip(x, alpha): # zip() takes iterables, aggregates them in a tuple, and returns it: languages = [x1, x2], versions = [14, 3] -> [(x1, 14), (, 3)]\n",
    "        u *= np.max(x_now,0)**alpha_now\n",
    "    return u\n",
    "    \n",
    "def expenditures(x, p):\n",
    "    # ensure you understand what this function is doing\n",
    "\n",
    "    E = 0\n",
    "    for x_now, p_now in zip(x,p):\n",
    "        E += p_now * x_now\n",
    "    return E\n",
    "\n",
    "def print_solution(x, alpha, I, p):\n",
    "    # you can just use this function\n",
    "    \n",
    "    # a. x values\n",
    "    text = 'x = ['\n",
    "    for x_now in x:\n",
    "        text += f'{x_now:.2f} '\n",
    "    text += f']\\n'\n",
    "    \n",
    "    # b. utility\n",
    "    u = utility_function(x,alpha)    \n",
    "    text += f'utility = {u:.3f}\\n'\n",
    "    \n",
    "    # c. expenditure vs. income\n",
    "    E =  expenditures(x,p)\n",
    "    text += f'E = {E:.2f} <= I = {I:.2f}\\n'\n",
    "    \n",
    "    # d. expenditure shares\n",
    "    e = p*x/I\n",
    "    text += 'expenditure shares = ['\n",
    "    for e_now in e:\n",
    "        text += f'{e_now:.2f} '\n",
    "    text += f']'        \n",
    "        \n",
    "    print(text)"
   ]
  },
  {
   "cell_type": "code",
   "execution_count": 35,
   "metadata": {},
   "outputs": [
    {
     "name": "stdout",
     "output_type": "stream",
     "text": [
      "[(1, 0.5), (3, 0.5)]\n"
     ]
    }
   ],
   "source": [
    "x_list = [1, 3, 4] # [x1, x2, x3]\n",
    "alpha = [0.5, 0.5]\n",
    "\n",
    "list_zip = zip(x_list, alpha)\n",
    "\n",
    "zipped_list = list(list_zip)\n",
    "print(zipped_list)"
   ]
  },
  {
   "cell_type": "markdown",
   "metadata": {},
   "source": [
    "You can initially use the following parameter choices:"
   ]
  },
  {
   "cell_type": "code",
   "execution_count": 36,
   "metadata": {},
   "outputs": [],
   "source": [
    "alpha = np.ones(5)/5\n",
    "p = np.array([1,2,3,4,5])\n",
    "I = 10"
   ]
  },
  {
   "cell_type": "markdown",
   "metadata": {},
   "source": [
    "Solving with a loop:"
   ]
  },
  {
   "cell_type": "code",
   "execution_count": 37,
   "metadata": {},
   "outputs": [
    {
     "name": "stdout",
     "output_type": "stream",
     "text": [
      "x = [2.14 1.07 0.71 0.36 0.43 ]\n",
      "utility = 0.758\n",
      "E = 10.00 <= I = 10.00\n",
      "expenditure shares = [0.21 0.21 0.21 0.14 0.21 ]\n"
     ]
    }
   ],
   "source": [
    "N = 15 # number of points in each dimension\n",
    "fac = np.linspace(0,1,N) # vector betweein 0 and 1\n",
    "x_max = I/p # maximum x so E = I\n",
    "\n",
    "u_best = -np.inf # initial minimum - floating point representation of negative infinity\n",
    "x_best = np.empty(5)\n",
    "for x1 in fac:\n",
    "   for x2 in fac:\n",
    "        for x3 in fac:\n",
    "            for x4 in fac:\n",
    "                for x5 in fac:\n",
    "                    x = np.array([x1,x2,x3,x4,x5])*x_max\n",
    "                    E = expenditures(x,p)\n",
    "                    if E <= I:\n",
    "                        u_now = utility_function(x,alpha)\n",
    "                        if u_now > u_best:\n",
    "                            x_best = x\n",
    "                            u_best = u_now\n",
    "\n",
    "print_solution(x_best,alpha,I,p)"
   ]
  },
  {
   "cell_type": "markdown",
   "metadata": {},
   "source": [
    "> **Extra:** The above code can be written nicer with the ``product`` function from ``itertools``."
   ]
  },
  {
   "cell_type": "code",
   "execution_count": 38,
   "metadata": {},
   "outputs": [
    {
     "name": "stdout",
     "output_type": "stream",
     "text": [
      "x = [2.14 1.07 0.71 0.36 0.43 ]\n",
      "utility = 0.758\n",
      "E = 10.00 <= I = 10.00\n",
      "expenditure shares = [0.21 0.21 0.21 0.14 0.21 ]\n"
     ]
    }
   ],
   "source": [
    "from itertools import product\n",
    "\n",
    "N = 15 \n",
    "fac = np.linspace(0, 1, N) \n",
    "x_max = I/p\n",
    "\n",
    "# Generate all combinations of x1, x2, x3, x4, x5\n",
    "combinations = product(fac, repeat=5)\n",
    "\n",
    "u_best = -np.inf\n",
    "x_best = np.empty(5)\n",
    "\n",
    "for combination in combinations:\n",
    "    x = np.array(combination) * x_max\n",
    "    E = expenditures(x, p)\n",
    "\n",
    "    if E <= I:\n",
    "        u_now = utility_function(x, alpha)\n",
    "        if u_now > u_best:\n",
    "            x_best = x\n",
    "            u_best = u_now\n",
    "\n",
    "print_solution(x_best, alpha, I, p)"
   ]
  },
  {
   "cell_type": "markdown",
   "metadata": {},
   "source": [
    "Solving with a numerical optimizer:"
   ]
  },
  {
   "cell_type": "code",
   "execution_count": 39,
   "metadata": {},
   "outputs": [
    {
     "name": "stdout",
     "output_type": "stream",
     "text": [
      "Optimization terminated successfully\n",
      "x = [2.00 1.00 0.67 0.50 0.40 ]\n",
      "utility = 0.768\n",
      "E = 10.00 <= I = 10.00\n",
      "expenditure shares = [0.20 0.20 0.20 0.20 0.20 ]\n"
     ]
    }
   ],
   "source": [
    "# update this code\n",
    "\n",
    "from scipy import optimize\n",
    "\n",
    "# a. contraint function (negative if violated)\n",
    "# missing line, hint: constraints = ({'type': 'ineq', 'fun': lambda x: ?})\n",
    "# missing line, hint: bounds = [(?,?) for p_now in p]\n",
    "constraints = ({'type': 'ineq', 'fun': lambda x:  I-expenditures(x,p)})\n",
    "bounds = [(0, I/p_now) for p_now in p]\n",
    "\n",
    "# b. call optimizer\n",
    "initial_guess = (I/p)/6 # some guess, should be feasible\n",
    "\n",
    "# instead of using lamdafunction --- lambda x: -utility_function(x,alpha)\n",
    "def neg_utility(x): \n",
    "    return -utility_function(x, alpha)\n",
    "\n",
    "# missing line, hint: res = optimize.minimize(?,?,method='SLSQP',bounds=bounds,constraints=constraints)\n",
    "res = optimize.minimize(neg_utility,initial_guess,\n",
    "                        method='SLSQP',bounds=bounds,constraints=constraints)\n",
    "\n",
    "print(res.message) # check that the solver has terminated correctly\n",
    "\n",
    "# c. print result\n",
    "print_solution(res.x,alpha,I,p)"
   ]
  },
  {
   "cell_type": "markdown",
   "metadata": {},
   "source": [
    "## Solutions using loops"
   ]
  },
  {
   "cell_type": "markdown",
   "metadata": {},
   "source": [
    "Using **raw loops**:"
   ]
  },
  {
   "cell_type": "markdown",
   "metadata": {
    "tags": []
   },
   "source": [
    "See A5.py"
   ]
  },
  {
   "cell_type": "markdown",
   "metadata": {},
   "source": [
    "Using **smart itertools loop:**"
   ]
  },
  {
   "cell_type": "markdown",
   "metadata": {
    "tags": []
   },
   "source": [
    "see A6.py    "
   ]
  },
  {
   "cell_type": "markdown",
   "metadata": {},
   "source": [
    "## Solutions using solvers"
   ]
  },
  {
   "cell_type": "code",
   "execution_count": 40,
   "metadata": {},
   "outputs": [
    {
     "name": "stdout",
     "output_type": "stream",
     "text": [
      "Optimization terminated successfully.\n",
      "x = [2.00 1.00 0.67 0.50 0.40 ]\n",
      "utility = 0.768\n",
      "E = 10.00 <= I = 10.00\n",
      "expenditure shares = [0.20 0.20 0.20 0.20 0.20 ]\n"
     ]
    }
   ],
   "source": [
    "from scipy import optimize\n",
    "\n",
    "# a. define objective function\n",
    "def unconstrained_objective(x,alpha,I,p):\n",
    "    \n",
    "    penalty = 0\n",
    "    E = expenditures(x,p)\n",
    "    if E >= I:\n",
    "        ratio = I/E\n",
    "        x *= ratio # now p*x = I\n",
    "        penalty = 1000*(E-I)**2\n",
    "    \n",
    "    u = utility_function(x,alpha)\n",
    "    return -u + penalty \n",
    "    # note: \n",
    "    #  \"-u\" because we are minimizing\n",
    "    #  \"+ penalty\" because the minimizer \n",
    "    #   will then avoid the E > I\n",
    "\n",
    "# b. call optimizer\n",
    "initial_guess = (I/p)/6\n",
    "res = optimize.minimize(\n",
    "    unconstrained_objective,initial_guess,\n",
    "    method='Nelder-Mead',args=(alpha,I,p),options={'maxiter':5000},tol=1e-10)\n",
    "\n",
    "print(res.message)\n",
    "\n",
    "# c. print result\n",
    "print_solution(res.x,alpha,I,p)   "
   ]
  },
  {
   "cell_type": "markdown",
   "metadata": {},
   "source": [
    "Solution using a **constrained optimizer:**"
   ]
  },
  {
   "cell_type": "markdown",
   "metadata": {
    "tags": []
   },
   "source": [
    "see A7.py"
   ]
  },
  {
   "cell_type": "markdown",
   "metadata": {},
   "source": [
    "Solution using an **unconstrained optimizer:**"
   ]
  },
  {
   "cell_type": "markdown",
   "metadata": {
    "tags": []
   },
   "source": [
    "see A8.py"
   ]
  },
  {
   "cell_type": "markdown",
   "metadata": {},
   "source": [
    "# Extra Problems"
   ]
  },
  {
   "cell_type": "markdown",
   "metadata": {},
   "source": [
    "## Cost minimization"
   ]
  },
  {
   "cell_type": "markdown",
   "metadata": {},
   "source": [
    "Consider the following 2-good **cost minimziation problem** with required utility $u_0$, and price-vector $p=(p_1,p_2)$,\n",
    "\n",
    "$$\n",
    "\\begin{aligned}\n",
    "E(p_{1},p_{2},u_0) & = \\min_{x_{1},x_{2}} p_1 x_1+p_2 x_2\\\\\n",
    " & \\text{s.t.}\\\\\n",
    "x_{1}^{\\alpha}x_{2}^{1-\\alpha} & \\geq u_0 \\\\\n",
    "x_{1},x_{2} & \\geq 0\n",
    "\\end{aligned}\n",
    "$$"
   ]
  },
  {
   "cell_type": "markdown",
   "metadata": {},
   "source": [
    "**Problem:** Solve the 2-good cost-minimization problem with arbitrary required utility, prices and income. Present your results graphically showing that the optimum is a point, where a budgetline is targent to the indifference curve through $u_0$."
   ]
  },
  {
   "cell_type": "code",
   "execution_count": 41,
   "metadata": {},
   "outputs": [
    {
     "data": {
      "image/png": "[encoded data removed]",
      "text/plain": [
       "<Figure size 640x480 with 1 Axes>"
      ]
     },
     "metadata": {},
     "output_type": "display_data"
    }
   ],
   "source": [
    "# This is not a solution, but should work as inspiration if you chose to solve this extra problem :)\n",
    "\n",
    "import numpy as np\n",
    "import matplotlib.pyplot as plt\n",
    "from scipy.optimize import minimize\n",
    "\n",
    "# Define the Cobb-Douglas utility function\n",
    "def utility_function(x1, alpha, u0):\n",
    "    x2 = u0 / x1**alpha\n",
    "    return x2\n",
    "\n",
    "# Set prices and required utility\n",
    "p1, p2 = 1, 1\n",
    "u0 = 10\n",
    "alpha = 0.5  # Define alpha\n",
    "\n",
    "# Define the cost minimization objective function\n",
    "def cost_minimization(x, p1, p2):\n",
    "    return p1 * x[0] + p2 * x[1]\n",
    "\n",
    "# Utility constraint function\n",
    "def utility_constraint(x, alpha, u0):\n",
    "    return x[0]**alpha * x[1]**(1 - alpha) - u0\n",
    "\n",
    "# Initial guess\n",
    "initial_guess = [0, 0]\n",
    "\n",
    "# Optimization\n",
    "result = minimize(cost_minimization, initial_guess, args=(p1, p2),\n",
    "                  constraints={'type': 'eq', 'fun': utility_constraint, 'args': (alpha, u0)})\n",
    "\n",
    "# Extract optimal values\n",
    "x_optimal = result.x\n",
    "\n",
    "# Plotting\n",
    "x_values = np.linspace(0.1, 10, 100)\n",
    "y_values = utility_function(x_values, alpha=alpha, u0=u0)\n",
    "\n",
    "# Correct budget line based on prices p1 and p2\n",
    "budget_line = (u0 / p2) - (p1 / p2) * x_values\n",
    "\n",
    "plt.plot(x_values, y_values, label='Indifference Curve')\n",
    "plt.plot(x_values, budget_line, label='Budget Line', linestyle='--')\n",
    "plt.scatter(x_optimal[0], x_optimal[1], color='red', label='Optimal Point')\n",
    "\n",
    "plt.xlabel('Good 1')\n",
    "plt.ylabel('Good 2')\n",
    "plt.title('Cost Minimization Problem')\n",
    "plt.legend()\n",
    "plt.show()"
   ]
  },
  {
   "cell_type": "markdown",
   "metadata": {},
   "source": [
    "## Classy solution"
   ]
  },
  {
   "cell_type": "markdown",
   "metadata": {},
   "source": [
    "**Problem:** Implement your solution to the utility maximization problem and/or the cost minimization problem above in a class as seen in Lecture 3. "
   ]
  }
 ],
 "metadata": {
  "kernelspec": {
   "display_name": "Python 3 (ipykernel)",
   "language": "python",
   "name": "python3"
  },
  "language_info": {
   "codemirror_mode": {
    "name": "ipython",
    "version": 3
   },
   "file_extension": ".py",
   "mimetype": "text/x-python",
   "name": "python",
   "nbconvert_exporter": "python",
   "pygments_lexer": "ipython3",
   "version": "3.11.5"
  },
  "toc-autonumbering": true
 },
 "nbformat": 4,
 "nbformat_minor": 4
}
