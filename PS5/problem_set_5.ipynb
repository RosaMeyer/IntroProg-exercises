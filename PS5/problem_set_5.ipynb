{
 "cells": [
  {
   "cell_type": "markdown",
   "metadata": {},
   "source": [
    "# Problem set 5: Writing your own algorithms"
   ]
  },
  {
   "cell_type": "markdown",
   "metadata": {},
   "source": [
    "This problem set has no tasks, but only problems of increasing complexity. See how far you can get :)"
   ]
  },
  {
   "cell_type": "code",
   "execution_count": null,
   "metadata": {},
   "outputs": [],
   "source": [
    "import math"
   ]
  },
  {
   "cell_type": "markdown",
   "metadata": {},
   "source": [
    "# Factorial"
   ]
  },
  {
   "cell_type": "markdown",
   "metadata": {},
   "source": [
    "Remember that the factorial of $n$ is\n",
    "\n",
    "$$\n",
    "n\\cdot(n-1)\\cdot(n-2)\\cdot...\\cdot 1\n",
    "$$\n",
    "\n",
    "**Problem:** Correct the following function so that it returns the factorial of n using *functional recursion*."
   ]
  },
  {
   "cell_type": "code",
   "execution_count": null,
   "metadata": {},
   "outputs": [],
   "source": [
    "def factorial(n):\n",
    "    if n == 1:\n",
    "        return 1\n",
    "    else:\n",
    "        return n * factorial(n - 1) # + missing code\n",
    "    \n",
    "print('Using my own method:', factorial(5))\n",
    "print('Using a Python factorial method:', math.factorial(5))\n",
    "\n",
    "def check_fac(fac1, fac2):\n",
    "    return fac1 == fac2\n",
    "    \n",
    "print(check_fac(factorial(5), math.factorial(5)))"
   ]
  },
  {
   "cell_type": "markdown",
   "metadata": {},
   "source": [
    "**Answer:** see A1.py"
   ]
  },
  {
   "cell_type": "markdown",
   "metadata": {},
   "source": [
    "# Descending bubble sort"
   ]
  },
  {
   "cell_type": "markdown",
   "metadata": {},
   "source": [
    "**Problem:** Sort a list of numbers in-place descending (from high to low).\n",
    "\n",
    "**Inputs:** List of numbers.\n",
    "\n",
    "**Outputs:** None.\n",
    "\n",
    "**Algorithm:** "
   ]
  },
  {
   "cell_type": "code",
   "execution_count": null,
   "metadata": {},
   "outputs": [],
   "source": [
    "L = [54, 26, 93, 17, 77, 31, 44, 55, 20] # test list\n",
    "\n",
    "# bubbleSort(array)\n",
    "#   for i <- 1 to indexOfLastUnsortedElement-1\n",
    "#     if leftElement > rightElement\n",
    "#       swap leftElement and rightElement\n",
    "# end bubbleSort\n",
    "\n",
    "# write your code here (hint: use the bubble_sort() algorithm from the lectures)\n",
    "def bubble_sort(L):\n",
    "    \n",
    "    # loop to access each list element\n",
    "    for i in range(len(L)-1): # runs len(L)-i-1 times to avoid comparisons with elems already sorted at the end of the list\n",
    "        \n",
    "        # loop to compare list elements\n",
    "        for j in range(0, len(L)-i-1):\n",
    "            \n",
    "            # compare two adjacent elements\n",
    "            # change > to < to sort in descending order\n",
    "            if L[j] > L[j+1]:\n",
    "\n",
    "                # swapping elements if elements\n",
    "                # are not in the intended order\n",
    "                temp = L[j] # save value at j\n",
    "                L[j] = L[j+1] # overwrite value at j with value at j+1\n",
    "                L[j+1] = temp # write value at j to value at j+1\n",
    "    return L\n",
    "\n",
    "print('Sorted:', bubble_sort(L))"
   ]
  },
  {
   "cell_type": "markdown",
   "metadata": {},
   "source": [
    "**Answer:** see A2.py"
   ]
  },
  {
   "cell_type": "markdown",
   "metadata": {},
   "source": [
    "# Linear search for index"
   ]
  },
  {
   "cell_type": "markdown",
   "metadata": {},
   "source": [
    "**Problem:** Consider a number `x` and a sorted list of numbers `L`. Assume `L[0] <= x < L[-1]`. Find the index `i` such that `L[i] <= x < L[i+1]` using a linear search.\n",
    "\n",
    "**Inputs:** A sorted list of numbers `L` and a number `x`.\n",
    "    \n",
    "**Outputs:** Integer."
   ]
  },
  {
   "cell_type": "code",
   "execution_count": null,
   "metadata": {},
   "outputs": [],
   "source": [
    "L = [0, 1, 2, 8, 13, 17, 19, 32, 42] # test list\n",
    "\n",
    "# write your code here (hint: use the linear_seach() algorithm from the lecture)\n",
    "def linear_search(L, x):\n",
    "    i = 0 # used to track the index\n",
    "    found = False # used to indicate id elem x has been found\n",
    "\n",
    "    # iterates until either the end of the list is reached, len(L)-1, or elem is found (found == True)\n",
    "    while i < len(L)-1 and not found:\n",
    "        if x >= L[i] and x < L[i+1]: # comparison\n",
    "            found = True\n",
    "        else:\n",
    "            i += 1 # increment - moves to the next elem\n",
    "\n",
    "    return i\n",
    "\n",
    "# test your function\n",
    "for x in [3, 7, 13, 18, 32]:\n",
    "    i = linear_search(L, x)\n",
    "    print(f'{x} gives the index {i}')\n",
    "    assert(x >= L[i] and x < L[i+1]),(x,i,L[i])"
   ]
  },
  {
   "cell_type": "code",
   "execution_count": null,
   "metadata": {},
   "outputs": [],
   "source": [
    "# If you actually need to use linear search:\n",
    "\n",
    "def my_linear_search(L, x):\n",
    "    # Iterate through the list\n",
    "    for i, elem in enumerate(L):\n",
    "        # If the current element matches the search element\n",
    "        if elem == x:\n",
    "            return f'The element {x} has the index {i} in the given list.'  # Return the index of the found element\n",
    "    # If the element is not found\n",
    "    return f'The element {x} does not exist in the given list.'  # Return -1 to indicate not found\n",
    "\n",
    "print(my_linear_search(L,19))"
   ]
  },
  {
   "cell_type": "markdown",
   "metadata": {},
   "source": [
    "**Answer:** see A3.py"
   ]
  },
  {
   "cell_type": "markdown",
   "metadata": {},
   "source": [
    "# Bisection"
   ]
  },
  {
   "cell_type": "markdown",
   "metadata": {},
   "source": [
    "**Problem:** Find an (apporximate) solution to $f(x) = 0$ in the interval $[a,b]$ where $f(a)f(b) < 0$ (i.e. one is positive and the other is negative). \n",
    "\n",
    "> If $f$ is a *continuous* function then the intermediate value theorem ensures that a solution exists.\n",
    "\n",
    "**Inputs:** Function $f$, float interval $[a,b]$, float tolerance $\\epsilon > 0$.\n",
    "\n",
    "**Outputs:** Float.\n",
    "\n",
    "**Algorithm:** `bisection()`\n",
    "\n",
    "1. Set $a_0 = a$ and $b_0 = b$.\n",
    "\n",
    "2. Compute $f(m_0)$ where $m_0 = (a_0 + b_0)/2$ is the midpoint\n",
    "\n",
    "3. Determine the next sub-interval $[a_1,b_1]$:\n",
    "\n",
    "  i. If $f(a_0)f(m_0) < 0$ then $a_1 = a_0$ and $b_1 = m_0$\n",
    "\n",
    "  ii. If $f(m_0)f(b_0) < 0$ then $a_1 = m_0$ and $b_1 = b_0$\n",
    "\n",
    "4. Repeat step 2 and step 3 until $|f(m_n)| < \\epsilon$"
   ]
  },
  {
   "cell_type": "code",
   "execution_count": 29,
   "metadata": {},
   "outputs": [
    {
     "name": "stdout",
     "output_type": "stream",
     "text": [
      "0.75\n"
     ]
    }
   ],
   "source": [
    "f = lambda x: (2.1*x-1.7)*(x-3.3) # test function\n",
    "\n",
    "def bisection(f, a, b, epsilon):\n",
    "    # write your code here\n",
    "    a_0 = a\n",
    "    b_0 = b\n",
    "\n",
    "    # Requirement, i.e. one is positive and the other is negativ\n",
    "    if f(a)*f(b) >= 0:\n",
    "        return 'Bisection method fails due to requirment!'\n",
    "    \n",
    "    # Step 2-3\n",
    "    while True: \n",
    "        # Step 2: Calculate midpoint and associated value\n",
    "        m_0 = (a_0 + b_0)/2\n",
    "        f_m_0 = f(m_0)\n",
    "\n",
    "        # Setp 3: Determine the next sub-interval\n",
    "        if f(a_0)*f_m_0 < 0:\n",
    "            a_1 = a_0\n",
    "            b_1 = m_0\n",
    "        if f_m_0*f(b_0) < 0:\n",
    "            a_1 = m_0\n",
    "            b_1 = b_0\n",
    "        else:\n",
    "            return 'Bisection method fails somewhere in step 2-4!'\n",
    "\n",
    "        # Step 4: Repeat step 2-3 until |f(m_0)| < epsilon\n",
    "        if abs(f_m_0) < epsilon:\n",
    "            return m_0\n",
    "        \n",
    "        return (a_1 + b_1)/2\n",
    "    \n",
    "result = bisection(f, 0, 1, 1e-8)\n",
    "print(result)"
   ]
  },
  {
   "cell_type": "markdown",
   "metadata": {},
   "source": [
    "**Answer:** see A4.py"
   ]
  },
  {
   "cell_type": "markdown",
   "metadata": {},
   "source": [
    "# Find prime numbers (hard)"
   ]
  },
  {
   "cell_type": "markdown",
   "metadata": {},
   "source": [
    "**Goal:** Implement a function in Python for the sieve of Eratosthenes.\n",
    "\n",
    "The **sieve of Eratosthenes** is a simple algorithm for finding all prime numbers up to a specified integer. It was created by the ancient Greek mathematician Eratosthenes. The algorithm to find all the prime numbers less than or equal to a given integer $n$.\n",
    "\n",
    "**Algorithm:** `sieve_()`\n",
    "\n",
    "1. Create a list of integers from $2$ to $n$: $2, 3, 4, ..., n$ (all potentially primes)\n",
    "\n",
    "    `primes = list(range(2,n+1))`\n",
    "\n",
    "2. Start with a counter $i$ set to $2$, i.e. the first prime number\n",
    "\n",
    "3. Starting from $i+i$, count up by $i$ and remove those numbers from the list, i.e. $2i$, $3i$, $4i$ etc.\n",
    "\n",
    "    `primes.remove(i)`\n",
    "    \n",
    "4. Find the first number of the list following $i$. This is the next prime number.\n",
    "\n",
    "5. Set $i$ to the number found in the previous step.\n",
    "\n",
    "6. Repeat steps 3-5 until $i$ is greater than $\\sqrt {n}$.\n",
    "7. All the numbers, which are still in the list, are prime numbers."
   ]
  },
  {
   "cell_type": "markdown",
   "metadata": {},
   "source": [
    "**A more detailed explanation:** See this [video](https://www.youtube.com/watch?v=klcIklsWzrY&feature=youtu.be)"
   ]
  },
  {
   "cell_type": "code",
   "execution_count": 95,
   "metadata": {},
   "outputs": [
    {
     "name": "stdout",
     "output_type": "stream",
     "text": [
      "[2, 3, 5, 7, 11, 13, 17, 19, 23, 29, 31, 37, 41, 43, 47, 53, 59, 61, 67, 71, 73, 79, 83, 89, 97]\n"
     ]
    }
   ],
   "source": [
    "def sieve(n):\n",
    "    # Step 0:\n",
    "    primes = [True] * (n+1)  # Initialize a list of boolean values representing whether each number is prime\n",
    "    primes[0] = primes[1] = False  # 0 and 1 are not primes\n",
    "\n",
    "    # Step 1: List of all potential primes\n",
    "    list = [i for i in range(2, n+1)]\n",
    "\n",
    "    # Step 2: \n",
    "    for i in list:\n",
    "        if primes[i]:\n",
    "            for j in range(i*i, n+1, i):\n",
    "                primes[j] = False\n",
    "    \n",
    "    primes_numbers = [i for i in list if primes[i]]\n",
    "    return primes_numbers\n",
    "\n",
    "print(sieve(100))"
   ]
  },
  {
   "cell_type": "code",
   "execution_count": 96,
   "metadata": {},
   "outputs": [
    {
     "name": "stdout",
     "output_type": "stream",
     "text": [
      "True\n"
     ]
    }
   ],
   "source": [
    "def is_prime(n):\n",
    "    if n <= 1:\n",
    "        return False\n",
    "    if n == 2:\n",
    "        return True\n",
    "    if n % 2 == 0:\n",
    "        return False\n",
    "    for i in range(3, int(n**0.5) + 1, 2):\n",
    "        if n % i == 0:\n",
    "            return False\n",
    "    return True\n",
    "\n",
    "def check_primes(prime_numbers):\n",
    "    for num in prime_numbers:\n",
    "        if not is_prime(num):\n",
    "            return False\n",
    "    return True\n",
    "\n",
    "print(check_primes(sieve(100)))"
   ]
  },
  {
   "cell_type": "markdown",
   "metadata": {},
   "source": [
    "**Answer:** see A5.py"
   ]
  },
  {
   "cell_type": "markdown",
   "metadata": {},
   "source": [
    "# More Problems"
   ]
  },
  {
   "cell_type": "markdown",
   "metadata": {},
   "source": [
    "See [Project Euler](https://projecteuler.net/about)."
   ]
  }
 ],
 "metadata": {
  "kernelspec": {
   "display_name": "Python 3 (ipykernel)",
   "language": "python",
   "name": "python3"
  },
  "language_info": {
   "codemirror_mode": {
    "name": "ipython",
    "version": 3
   },
   "file_extension": ".py",
   "mimetype": "text/x-python",
   "name": "python",
   "nbconvert_exporter": "python",
   "pygments_lexer": "ipython3",
   "version": "3.9.10"
  },
  "toc-autonumbering": true
 },
 "nbformat": 4,
 "nbformat_minor": 4
}
